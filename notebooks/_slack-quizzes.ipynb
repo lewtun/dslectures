{
 "cells": [
  {
   "cell_type": "markdown",
   "metadata": {},
   "source": [
    "# Polls for Slack\n",
    "\n",
    "> In-class quizzes to reinforce key concepts. Ensure that [Simple Poll](https://simplepoll.rocks/) is installed in the Slack workspace."
   ]
  },
  {
   "cell_type": "markdown",
   "metadata": {},
   "source": [
    "## Lesson 2"
   ]
  },
  {
   "cell_type": "markdown",
   "metadata": {},
   "source": [
    "/poll “Will this customer purchase service S1 if given incentive I?” “Regression” “Classification” anonymous\n",
    "\n",
    "> This is a classification problem because it has a binary target (the customer either purchases or does not)."
   ]
  },
  {
   "cell_type": "markdown",
   "metadata": {},
   "source": [
    "/poll “Which service package (S1, S2, or none) will a customer likely purchase if given incentive I?” “Classification” “Regression” anonymous\n",
    "\n",
    "> This is also a classification problem, with a three-valued target."
   ]
  },
  {
   "cell_type": "markdown",
   "metadata": {},
   "source": [
    "/poll “How much will this customer use the service?” “Regression” “Classification” anonymous\n",
    "\n",
    "> This is a regression problem because it has a numeric target. The target variable is the amount of usage (actual or predicted) per customer."
   ]
  },
  {
   "cell_type": "markdown",
   "metadata": {},
   "source": [
    "## Lesson 3"
   ]
  },
  {
   "cell_type": "markdown",
   "metadata": {},
   "source": [
    "/poll “We can build unsupervised machine learning models when we lack labels for the target variables.” “True” “False” anonymous\n",
    "\n",
    "> True"
   ]
  },
  {
   "cell_type": "markdown",
   "metadata": {},
   "source": [
    "/poll “Finding the most profitable customer is an example of an unsupervised learning task.” “True” “False” anonymous\n",
    "\n",
    "> False"
   ]
  },
  {
   "cell_type": "markdown",
   "metadata": {},
   "source": [
    "/poll “Which of the following is not a reason why data science technologies are attracting significant attention\n",
    "nowadays?” “There is too much data for manual analysis” “Data are difficult to transfer from databases” “Data can be a resource for competitive advantage” “Machine learning algorithms are easily available” anonymous\n",
    "\n",
    "> Data are difficult to transfer from databases"
   ]
  },
  {
   "cell_type": "code",
   "execution_count": null,
   "metadata": {},
   "outputs": [],
   "source": []
  }
 ],
 "metadata": {
  "kernelspec": {
   "display_name": "Python 3",
   "language": "python",
   "name": "python3"
  }
 },
 "nbformat": 4,
 "nbformat_minor": 4
}

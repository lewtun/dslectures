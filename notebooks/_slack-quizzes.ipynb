{
 "cells": [
  {
   "cell_type": "markdown",
   "metadata": {},
   "source": [
    "# Polls for Slack\n",
    "\n",
    "> In-class quizzes to reinforce key concepts. Make sure [Simple Poll](https://simplepoll.rocks/) is installed in the Slack workspace."
   ]
  },
  {
   "cell_type": "markdown",
   "metadata": {},
   "source": [
    "## Lesson 2"
   ]
  },
  {
   "cell_type": "markdown",
   "metadata": {},
   "source": [
    "/poll “Will this customer purchase service S1 if given incentive I?” “Regression” “Classification” anonymous\n",
    "\n",
    "> This is a classification problem because it has a binary target (the customer either purchases or does not)."
   ]
  },
  {
   "cell_type": "markdown",
   "metadata": {},
   "source": [
    "/poll “Which service package (S1, S2, or none) will a customer likely purchase if given incentive I?” “Classification” “Regression” anonymous\n",
    "\n",
    "> This is also a classification problem, with a three-valued target."
   ]
  },
  {
   "cell_type": "markdown",
   "metadata": {},
   "source": [
    "/poll “How much will this customer use the service?” “Regression” “Classification” anonymous\n",
    "\n",
    "> This is a regression problem because it has a numeric target. The target variable is the amount of usage (actual or predicted) per customer."
   ]
  },
  {
   "cell_type": "code",
   "execution_count": null,
   "metadata": {},
   "outputs": [],
   "source": []
  }
 ],
 "metadata": {
  "kernelspec": {
   "display_name": "Python 3",
   "language": "python",
   "name": "python3"
  }
 },
 "nbformat": 4,
 "nbformat_minor": 4
}

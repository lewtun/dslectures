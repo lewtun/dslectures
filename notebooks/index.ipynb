{
 "cells": [
  {
   "cell_type": "code",
   "execution_count": null,
   "metadata": {},
   "outputs": [],
   "source": [
    "#hide\n",
    "from dslectures.core import *\n",
    "from IPython.display import display, HTML"
   ]
  },
  {
   "cell_type": "markdown",
   "metadata": {},
   "source": [
    "# Introduction to Data Science\n",
    "\n",
    "> Welcome to the documentation for BTW2401 - Data Science and Visualisation!"
   ]
  },
  {
   "cell_type": "markdown",
   "metadata": {},
   "source": [
    "## What is this thing called data science?\n",
    "\n",
    "Data science is a big deal in business these days, and with good reasons. Amongst them (Loukides, 2010):\n",
    "* Almost every aspect of a business is open to data collection, be it web server logs, tweet streams, IoT sensors, online transactions, or some other source. Data science provides techniques to extract useful information from this data and thus generate added value;\n",
    "* The question facing every company, startup, and non-profit that wants to attract a community in the modern era is how to use data _effectively._ Using data effectively requires something different from traditional statistics; namely an interdisciplinary approach that involves elements of statistics, computer science, and domain expertise. Data science is the methodology that synthesises these three domains (Fig. 1).\n",
    "\n",
    "In essence, data science is about the extraction of useful information and knowledge from\n",
    "large volumes of data, in order to improve business decision-making (Provost & Fawcett, 2013). With improved decision making comes improved productivity, market value, and competitive edge. Thus the main goal of data science is to enable data-driven decision making across the whole company (Fig. 1), where decisions are based on the analysis of data rather than pure intuition.\n",
    "\n",
    "There are many challenges involved with making data science an effective component of a business, but for those that succeed (Google, Amazon, Facebook, LinkedIn) the rewards are immense."
   ]
  },
  {
   "cell_type": "code",
   "execution_count": null,
   "metadata": {
    "hide_input": true
   },
   "outputs": [
    {
     "data": {
      "text/html": [
       "<table style='width:60%'><tr><td><img src='images/venn.png' /></td><td><img src='images/ddd.png' /></td></tr></table>"
      ],
      "text/plain": [
       "<IPython.core.display.HTML object>"
      ]
     },
     "metadata": {},
     "output_type": "display_data"
    }
   ],
   "source": [
    "from IPython.display import display, HTML, Image\n",
    "\n",
    "\n",
    "def Images(images, header=None, width=\"100%\"):  # to match Image syntax\n",
    "    if type(width) == type(1):\n",
    "        width = \"{}px\".format(width)\n",
    "    html = [\"<table style='width:{}'><tr>\".format(width)]\n",
    "    if header is not None:\n",
    "        html += [\"<th>{}</th>\".format(h) for h in header] + [\"</tr><tr>\"]\n",
    "\n",
    "    for image in images:\n",
    "        html.append(\"<td><img src='{}' /></td>\".format(image))\n",
    "    html.append(\"</tr></table>\")\n",
    "    display(HTML(\"\".join(html)))\n",
    "\n",
    "\n",
    "Images([\"images/venn.png\", \"images/ddd.png\"], header=None, width=\"60%\")"
   ]
  },
  {
   "cell_type": "markdown",
   "metadata": {},
   "source": [
    "**Figure 1:** (Left) The data science Venn diagram (Conway, 2010). (Right) Data science in the context of various data-related processes in the organization. (Provost and Fawcett, 2013)."
   ]
  },
  {
   "cell_type": "markdown",
   "metadata": {},
   "source": [
    "## Learning objectives of the course\n",
    "This module provides students with a _hands-on_ introduction to the methods of data science, with an emphasis on applying these methods to solve business problems. By the end of this course, it is expected that students will:\n",
    "\n",
    "* Know how to approach business problems from a data science perspective;\n",
    "* Understand the fundamental principles behind extracting useful knowledge from data; \n",
    "* Understand the core concepts and terminology of machine learning;\n",
    "* Gain hands-on experience with mining data for insights.\n",
    "\n",
    "Throughout the course, students will also have the opportunity to learn several technical skills:\n",
    "\n",
    "* Python programming and experience with the core libaries for data analysis, visualisation, and modelling.\n",
    "* Working with data: collecting, cleaning, and transforming.\n",
    "* Creating and interpreting descriptive statistics.\n",
    "* Creating and interpreting data visualisations.\n",
    "* Practical experience with machine learning."
   ]
  },
  {
   "cell_type": "markdown",
   "metadata": {},
   "source": [
    "## Structure of the module\n",
    "The module structure consists of classroom sessions, self-study tasks, and group work. The classroom sessions will involve a mix of theoretical and practical (programming) work, with an emphasis on the latter. The self-study tasks will be used to read selected chapters from the module textbook and complete ungraded programming assignments. The outline for the module is shown in the table below."
   ]
  },
  {
   "cell_type": "markdown",
   "metadata": {},
   "source": [
    "## Module policies \n",
    "\n",
    "**Before class**\n",
    "We expect students to prepare for each class by completing the self-study tasks in advance.\n",
    "\n",
    "**During class**\n",
    "Please refrain from using your phone or social media (Facebook, Twitter, etc) during class; we do however encourage you to use the class Slack group! We also expect students to take an active role during the class by asking questions and contributing to the discussions.\n",
    "\n",
    "**Academic integrity and honesty**\n",
    "Your answers to homework, quizzes, and exams must be your own work (except for the group project, which is a collaborative task). Please don’t cheat or plagiarise other people’s work."
   ]
  },
  {
   "cell_type": "markdown",
   "metadata": {},
   "source": [
    "## Assessment\n",
    "\n",
    "The assessment for this module involves **_three_** parts whose sum is 100 points: one written mid-term test (10 points), one group project (50 points), and one final written exam (40 points). The total number of points determines the overall grade for the module.\n",
    "\n",
    "1. **Written mid-term test:** The mid-term test will consist of multiple choice and short-answer questions, covering content from the first seven lectures and chapters 1–4 of the module textbook Data Science for Business (see references below). This test has a maximum score of 10 points and will be held on XXXX.\n",
    "2. **Group project:** Students will be allocated into small groups and tasked to solve an end-to-end data science project. The results from the analysis must be submitted in the form of a Jupyter Notebook, followed by a 15 minute oral presentation to the class. The maximum score for this assessment is 50 points, evenly distributed across the analysis code and presentation.\n",
    "3. **Written examination:** The final written examination will consist of multiple choice and short answer questions, covering the content of the lectures and the module textbook. Students will not be required to solve any Python programming questions in the exam. The exam has a maximum score of 40 points and will take place on XXXX"
   ]
  },
  {
   "cell_type": "markdown",
   "metadata": {},
   "source": [
    "## Recommended references\n",
    "\n",
    "**Data Science**\n",
    "* F. Provost and T. Fawcett, _Data Science for Business,_ (O’Reilly Media 2013). \n",
    "* J. VanderPlas, _Python for Data Science Handbook,_ (O’Reilly Media 2016).\n",
    "\n",
    "Provost & Fawcett will be used as the **_primary_** textbook for the module and is the standard data science text for business programs at over 150 universities around the world.\n",
    "\n",
    "**Python Programming**\n",
    "* W. McKinney, _Python for Data Analysis,_ 2nd ed (O’Reilly Media 2017).\n",
    "\n",
    "We will use the Python programming language to analyse and visualise a variety of datasets in this module. McKinney’s book is an excellent reference to have at hand and covers the nuts and bolts of the NumPy and pandas packages.\n",
    "\n",
    "**Machine Learning**\n",
    "* A. Géron, _Hands-On Machine Learning with Scikit-Learn and TensorFlow,_ (O’Reilly Media 2017).\n",
    "* J. Howard, _Introduction to Machine Learning for Coders,_ (fastAI 2018).\n",
    "\n",
    "Although machine learning is not the only focus of this course, Géron’s book or fastAI’s MOOC provide the right level of technical detail to gain a deeper understanding of this exciting field."
   ]
  },
  {
   "cell_type": "markdown",
   "metadata": {},
   "source": [
    "##  Sources used for this syllabus\n",
    "* M. Loukides, _What is Data Science?,_ (O’Reilly 2010). Retrieved from https://www.oreilly.com/ideas/what-is-data-science\n",
    "* D. Conway, _The Data Science Venn Diagram,_ (2010). Retrieved from http://drewconway.com/zia/2013/3/26/the-data-science-venn-diagram"
   ]
  },
  {
   "cell_type": "code",
   "execution_count": null,
   "metadata": {},
   "outputs": [],
   "source": []
  }
 ],
 "metadata": {
  "kernelspec": {
   "display_name": "Python 3",
   "language": "python",
   "name": "python3"
  }
 },
 "nbformat": 4,
 "nbformat_minor": 4
}

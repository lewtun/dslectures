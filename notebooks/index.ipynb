{
 "cells": [
  {
   "cell_type": "markdown",
   "metadata": {},
   "source": [
    "# Introduction to Data Science\n",
    "\n",
    "> Welcome to the course materials for BTW2401 - Data Science and Visualisation!"
   ]
  },
  {
   "cell_type": "markdown",
   "metadata": {},
   "source": [
    "## What is this thing called data science?\n",
    "\n",
    "Data science is a big deal in business these days, and with good reasons. Amongst them (Loukides, 2010):\n",
    "* Almost every aspect of a business is open to data collection, be it web server logs, tweet streams, IoT sensors, online transactions, or some other source. Data science provides techniques to extract useful information from this data and thus generate added value;\n",
    "* The question facing every company, startup, and non-profit that wants to attract a community in the modern era is how to use data _effectively._ Using data effectively requires something different from traditional statistics; namely an interdisciplinary approach that involves elements of statistics, computer science, and domain expertise. Data science is the methodology that synthesises these three domains.\n",
    "\n",
    "In essence, data science is about the extraction of useful information and knowledge from\n",
    "large volumes of data, in order to improve business decision-making (Provost & Fawcett, 2013). With improved decision making comes improved productivity, market value, and competitive edge. Thus the main goal of data science is to enable data-driven decision making across the whole company (Fig. 1), where decisions are based on the analysis of data rather than pure intuition.\n",
    "\n",
    "There are many challenges involved with making data science an effective component of a business, but for those that succeed (Google, Amazon, Facebook, LinkedIn) the rewards are immense."
   ]
  },
  {
   "cell_type": "markdown",
   "metadata": {},
   "source": [
    "<div style=\"text-align: center\">\n",
    "<img src='images/ddd.png' width='400'>\n",
    "<p style=\"text-align: center;\"> <b>Figure:</b> Data science in the context of various data-related processes in the organization (Provost and Fawcett, 2013). </p>\n",
    "</div>"
   ]
  },
  {
   "cell_type": "markdown",
   "metadata": {},
   "source": [
    "## Learning objectives of the course\n",
    "This module provides students with a _hands-on_ introduction to the methods of data science, with an emphasis on applying these methods to solve business problems. By the end of this course, it is expected that students will:\n",
    "\n",
    "* Know how to approach business problems from a data science perspective;\n",
    "* Understand the fundamental principles behind extracting useful knowledge from data; \n",
    "* Understand the core concepts and terminology of machine learning;\n",
    "* Gain hands-on experience with mining data for insights.\n",
    "\n",
    "Throughout the course, students will also have the opportunity to learn several technical skills:\n",
    "\n",
    "* Python programming and experience with the core libaries for data analysis, visualisation, and modelling.\n",
    "* Working with data: collecting, cleaning, and transforming.\n",
    "* Creating and interpreting descriptive statistics.\n",
    "* Creating and interpreting data visualisations.\n",
    "* Practical experience with machine learning."
   ]
  },
  {
   "cell_type": "markdown",
   "metadata": {},
   "source": [
    "## Structure of the module\n",
    "The module structure consists of classroom sessions, self-study tasks, and group work. The classroom sessions will involve a mix of theoretical and practical (programming) work, with an emphasis on the latter. The self-study tasks will be used to read selected chapters from the module textbook and complete ungraded programming assignments. The outline for the module is shown in the table below.\n",
    "\n",
    "| CW | Date | Topic | Links |\n",
    "| :--- | :--- | :--- | :--- |\n",
    "| 8 | 20.02 | Introduction to data science | [![Binder](https://mybinder.org/badge_logo.svg)](https://mybinder.org/v2/gh/lewtun/dslectures/master?urlpath=lab/tree/notebooks/lesson01_intro-to-pandas.ipynb) [![notebook](https://img.shields.io/static/v1?label=notebook&message=lesson01_intro-to-pandas.ipynb&color=red&logo=Jupyter)](https://raw.githubusercontent.com/lewtun/dslectures/master/notebooks/lesson01_intro-to-pandas.ipynb) [![slides](https://img.shields.io/static/v1?label=slides&message=lesson01_intro-to-ds-and-ml.pdf&color=blue&logo=Google-drive)](https://drive.google.com/file/d/14bPRdbbf_CjDOfG8rBbSBQO-dDpxDj2G/view) |\n",
    "| 9 | 27.02 | Python for data analysis I | |\n",
    "| 10 | 5.03 | Python for data analysis II | |\n",
    "| 11 | 12.03 | Introduction to random forests | |\n",
    "| 12 | 19.03 | Random forest deep dive | |\n",
    "| 13 | 26.03 | Model interpretation | |\n",
    "| 14 | 2.04 | Classification | |\n",
    "| 15 | 9.04 | **No class (Easter)** | |\n",
    "| 16 | 16.04 | **Midterm exam & define group projects** | |\n",
    "| 17 | 23.04 | Cross-validation and model performance | |\n",
    "| 18 | 30.04 | Neighbours and clusters I | |\n",
    "| 19 | 7.05 | Neighbours and clusters II | |\n",
    "| 20 | 14.05 | Natural language processing I | |\n",
    "| 21 | 21.05 | **No class (Ascension) & project submission** | |\n",
    "| 22 | 28.05 | Natural language processing II | |\n",
    "| 23 | 4.06 | **Project presentations** | |\n",
    "| 24 | 11.06 | Deep learning | |\n",
    "| 25 | 18.06 | Exam preparation| |\n",
    "| 26 | 25.06 | Exam preparation | |\n",
    "| 27 | TBD | **Final exam** | |\n",
    "\n",
    "*Note:* To download the notebook right-click on the badge ![notebook](https://img.shields.io/static/v1?label=notebook&message=example-notebook.ipynb&color=red&logo=Jupyter) and select \"Save Link as ...\" and make sure to save them with the `.ipynb` ending."
   ]
  },
  {
   "cell_type": "markdown",
   "metadata": {},
   "source": [
    "## Cloud environment\n",
    "We will be teaching most of the class via Jupyter notebooks in Python. The notebooks for each class will be made available from links on this website. Note that some parts of the notebooks are removed for you to fill in as you follow along in class. You can open and run them directly on binder by clicking on the binder badge (see example below) at the top of each lecture notebook. We highly encourage the use of binder, since it requires no local installation and runs for free. \n",
    "\n",
    "Binder badge:  ![Binder](https://mybinder.org/badge_logo.svg) \n",
    "\n",
    "A few remarks about binder:\n",
    "1. Binder is free to use.\n",
    "2. If you edit a notebook make sure to download the notebooks, since binder does not store your changes.\n",
    "3. Binder will automatically shut down user sessions that have more than 10 minutes of inactivity (if you leave your window open, this will be counted as “activity”).\n",
    "4. Binder aims to provide at least 12 hours of session time per user session. Beyond that, it is not guaranteed that the session will remain running.\n",
    "\n",
    "\n",
    "### Download/Upload\n",
    "Since binder does not store your changes permanently you should download the notebooks you worked on at the end of your session. If you want to continue your session you can re-upload them to binder. See the image below for instructions how to upload/download.\n",
    "\n",
    "<div style=\"text-align: center\">\n",
    "<img src='images/binder-download-upload.png' width='800'>\n",
    "<p style=\"text-align: center;\"> <b>Figure:</b> Download and upload buttons on Jupyter lab as seen in the binder environment. </p>\n",
    "</div>"
   ]
  },
  {
   "cell_type": "markdown",
   "metadata": {},
   "source": [
    "## Local environment\n",
    "You can also install the data science lecture material locally. In general when working with Python it is recommended to use [virtual environments](https://docs.python.org/3/tutorial/venv.html). This makes sure that packages you install don't interfere with packages you already installed in other projects.\n",
    "\n",
    "To install the data science lectures run the following command:\n",
    "\n",
    "```bash\n",
    "pip install dslectures\n",
    "```\n",
    "\n",
    "To install Jupyter lab (a more advanced environment than Jupyter notebooks) run:\n",
    "\n",
    "```bash\n",
    "pip install jupyterlab\n",
    "```\n",
    "Then make sure you download all course material from the [GitHub repository](https://github.com/lewtun/dslectures) or just the missing notebooks. In general you will need to copy all materials, since some resources such as images are not self-contained in the notebooks.\n",
    "\n",
    "Finally, to start Juypter lab run:\n",
    "```bash\n",
    "jupyter-lab\n",
    "```\n",
    "\n",
    "### Updating the local environment\n",
    "Since we are building the materials up throughout the course you will need to update your local environment ideally every time we move on to the next lesson. To do so just run the following command before you start Jupyter lab\n",
    "\n",
    "```bash\n",
    "pip install --upgrade dslectures\n",
    "```"
   ]
  },
  {
   "cell_type": "markdown",
   "metadata": {},
   "source": [
    "## Module policies \n",
    "\n",
    "**Before class**\n",
    "\n",
    "We expect students to prepare for each class by completing the self-study tasks in advance.\n",
    "\n",
    "**During class**\n",
    "\n",
    "Please refrain from using your phone or social media (Facebook, Twitter, etc) during class; we do however encourage you to use the class Slack group! We also expect students to take an active role during the class by asking questions and contributing to the discussions.\n",
    "\n",
    "**Academic integrity and honesty**\n",
    "\n",
    "Your answers to homework, quizzes, and exams must be your own work (except for the group project, which is a collaborative task). Please don’t cheat or plagiarise other people’s work."
   ]
  },
  {
   "cell_type": "markdown",
   "metadata": {},
   "source": [
    "## Assessment\n",
    "\n",
    "The assessment for this module involves **_three_** parts whose sum is 100 points: one written mid-term test (10 points), one group project (40 points), and one final written exam (50 points). The total number of points determines the overall grade for the module.\n",
    "\n",
    "1. **Written mid-term test:** The mid-term test will consist of multiple choice and short-answer questions, covering content from the first seven lectures and chapters 1–4 of the module textbook Data Science for Business (see references below). This test has a maximum score of 10 points and will be held on April 16th.\n",
    "2. **Group project:** Students will be allocated into small groups and tasked to solve an end-to-end data science project. The results from the analysis must be submitted in the form of a Jupyter Notebook, followed by a 15 minute oral presentation to the class. The maximum score for this assessment is 50 points, evenly distributed across the analysis code and presentation.\n",
    "3. **Written examination:** The final written examination will consist of multiple choice and short answer questions, covering the content of the lectures and the module textbook. Students will not be required to solve any Python programming questions in the exam. The exam has a maximum score of 40 points and the final date will lie somewhere between June 29th and July 17th."
   ]
  },
  {
   "cell_type": "markdown",
   "metadata": {},
   "source": [
    "## Recommended references\n",
    "\n",
    "**Data Science**\n",
    "* F. Provost and T. Fawcett, _Data Science for Business,_ (O’Reilly Media 2013). \n",
    "* J. VanderPlas, _Python for Data Science Handbook,_ (O’Reilly Media 2016).\n",
    "\n",
    "Provost & Fawcett will be used as the **_primary_** textbook for the module and is the standard data science text for business programs at over 150 universities around the world.\n",
    "\n",
    "**Python Programming**\n",
    "* W. McKinney, _Python for Data Analysis,_ 2nd ed (O’Reilly Media 2017).\n",
    "\n",
    "We will use the Python programming language to analyse and visualise a variety of datasets in this module. McKinney’s book is an excellent reference to have at hand and covers the nuts and bolts of the NumPy and pandas packages.\n",
    "\n",
    "**Machine Learning**\n",
    "* A. Géron, _Hands-On Machine Learning with Scikit-Learn and TensorFlow,_ (O’Reilly Media 2017).\n",
    "* J. Howard, _Introduction to Machine Learning for Coders,_ (fastAI 2018).\n",
    "\n",
    "Although machine learning is not the only focus of this course, Géron’s book or fastAI’s MOOC provide the right level of technical detail to gain a deeper understanding of this exciting field.\n",
    "\n",
    "**Kaggle Learn**\n",
    "* [Kaggle Learn](https://www.kaggle.com/learn/overview)\n",
    "\n",
    "Kaggle Learn is a great resource to brush up on concepts like Python basics, data visualisation or pandas in an online notebook environment (similar to Binder)."
   ]
  },
  {
   "cell_type": "markdown",
   "metadata": {},
   "source": [
    "##  Sources used for this syllabus\n",
    "* M. Loukides, _What is Data Science?,_ (O’Reilly 2010). Retrieved from https://www.oreilly.com/ideas/what-is-data-science\n",
    "* D. Conway, _The Data Science Venn Diagram,_ (2010). Retrieved from http://drewconway.com/zia/2013/3/26/the-data-science-venn-diagram"
   ]
  },
  {
   "cell_type": "code",
   "execution_count": null,
   "metadata": {},
   "outputs": [],
   "source": []
  }
 ],
 "metadata": {
  "kernelspec": {
   "display_name": "Python 3",
   "language": "python",
   "name": "python3"
  }
 },
 "nbformat": 4,
 "nbformat_minor": 4
}

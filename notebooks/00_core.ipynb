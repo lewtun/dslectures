{
 "cells": [
  {
   "cell_type": "code",
   "execution_count": null,
   "metadata": {},
   "outputs": [],
   "source": [
    "# default_exp core"
   ]
  },
  {
   "cell_type": "markdown",
   "metadata": {},
   "source": [
    "# Core library\n",
    "\n",
    "> API details."
   ]
  },
  {
   "cell_type": "code",
   "execution_count": null,
   "metadata": {},
   "outputs": [],
   "source": [
    "# export\n",
    "from nbdev.showdoc import *\n",
    "import wget\n",
    "import os"
   ]
  },
  {
   "cell_type": "code",
   "execution_count": null,
   "metadata": {},
   "outputs": [],
   "source": [
    "# exports\n",
    "def get_dataset(dataset_name: str):\n",
    "    \"\"\"\n",
    "    Download datasets from Google Drive.\n",
    "    \"\"\"\n",
    "\n",
    "    name_to_id = {\n",
    "        \"word2vec-google-news-300.pkl\": \"1dRwSXbFTcQbn8c3V24G92wFY4DXZ1SDt\",\n",
    "        \"imdb.csv\": \"1wF0YEmQOwceJz2d6w4CfhBgydU87dPGl\",\n",
    "        \"housing.csv\": \"1d7oOKdDmZFx8wf0c8OfuTW1FpUyJHABh\",\n",
    "        \"housing_gmaps_data_raw.csv\": \"1R1RUHAXxzrIngRJMFwyp4vZRVICd-I6T\",\n",
    "        \"housing_addresses.csv\": \"1mOK0uyRz5Zs-Qo7mVMlxwtb2xn1E6N9Q\",\n",
    "    }\n",
    "\n",
    "    path = '../data/'\n",
    "    gdrive_path = \"https://docs.google.com/uc?export=download&id=\"\n",
    "    if dataset_name in name_to_id:\n",
    "        if os.path.exists(path + dataset_name):\n",
    "            print(f\"Dataset already exists at '{path + dataset_name}' and is not downloaded again.\")\n",
    "            return\n",
    "        try:\n",
    "            file_url =  gdrive_path + name_to_id[dataset_name]\n",
    "            wget.download(file_url, out=path)\n",
    "        except Exception as e:\n",
    "            print(\"Something went wrong during download. Try again.\")\n",
    "            raise e\n",
    "        print(f\"Download of {dataset_name} dataset complete.\")\n",
    "    else:\n",
    "        raise KeyError(\"File not on Google Drive.\")"
   ]
  },
  {
   "cell_type": "markdown",
   "metadata": {},
   "source": [
    "Dowload the California housing dataset:"
   ]
  },
  {
   "cell_type": "code",
   "execution_count": null,
   "metadata": {},
   "outputs": [
    {
     "name": "stdout",
     "output_type": "stream",
     "text": [
      "Dataset already exists at '../data/housing.csv' and is not downloaded again.\n"
     ]
    }
   ],
   "source": [
    "get_dataset('housing.csv')"
   ]
  },
  {
   "cell_type": "code",
   "execution_count": null,
   "metadata": {},
   "outputs": [
    {
     "name": "stdout",
     "output_type": "stream",
     "text": [
      "Dataset already exists at '../data/imdb.csv' and is not downloaded again.\n"
     ]
    }
   ],
   "source": [
    "get_dataset('imdb.csv')"
   ]
  },
  {
   "cell_type": "code",
   "execution_count": null,
   "metadata": {},
   "outputs": [
    {
     "name": "stdout",
     "output_type": "stream",
     "text": [
      "Dataset already exists at '../data/housing_gmaps_data_raw.csv' and is not downloaded again.\n"
     ]
    }
   ],
   "source": [
    "get_dataset('housing_gmaps_data_raw.csv')"
   ]
  },
  {
   "cell_type": "code",
   "execution_count": null,
   "metadata": {},
   "outputs": [
    {
     "name": "stdout",
     "output_type": "stream",
     "text": [
      "Dataset already exists at '../data/housing_addresses.csv' and is not downloaded again.\n"
     ]
    }
   ],
   "source": [
    "get_dataset('housing_addresses.csv')"
   ]
  },
  {
   "cell_type": "code",
   "execution_count": null,
   "metadata": {},
   "outputs": [
    {
     "name": "stdout",
     "output_type": "stream",
     "text": [
      "Dataset already exists at '../data/word2vec-google-news-300.pkl' and is not downloaded again.\n"
     ]
    }
   ],
   "source": [
    "get_dataset('word2vec-google-news-300.pkl')"
   ]
  },
  {
   "cell_type": "code",
   "execution_count": null,
   "metadata": {},
   "outputs": [],
   "source": []
  }
 ],
 "metadata": {
  "kernelspec": {
   "display_name": "Python 3",
   "language": "python",
   "name": "python3"
  }
 },
 "nbformat": 4,
 "nbformat_minor": 4
}

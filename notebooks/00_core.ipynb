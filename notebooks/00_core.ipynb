{
 "cells": [
  {
   "cell_type": "code",
   "execution_count": null,
   "metadata": {},
   "outputs": [],
   "source": [
    "# default_exp core"
   ]
  },
  {
   "cell_type": "markdown",
   "metadata": {},
   "source": [
    "# Core library\n",
    "\n",
    "> API details."
   ]
  },
  {
   "cell_type": "code",
   "execution_count": null,
   "metadata": {},
   "outputs": [],
   "source": [
    "# export\n",
    "from nbdev.showdoc import *\n",
    "import wget\n",
    "import os\n",
    "import subprocess"
   ]
  },
  {
   "cell_type": "code",
   "execution_count": null,
   "metadata": {},
   "outputs": [],
   "source": [
    "# exports\n",
    "def get_dataset(dataset_name: str):\n",
    "    \"\"\"\n",
    "    Download datasets from Google Drive.\n",
    "    \"\"\"\n",
    "\n",
    "    name_to_id = {\n",
    "        \"embeddings\": \"1dRwSXbFTcQbn8c3V24G92wFY4DXZ1SDt\",\n",
    "        \"imdb\": \"1wF0YEmQOwceJz2d6w4CfhBgydU87dPGl\",\n",
    "        \"housing\": \"1d7oOKdDmZFx8wf0c8OfuTW1FpUyJHABh\",\n",
    "        \"housing_gmaps\": \"1R1RUHAXxzrIngRJMFwyp4vZRVICd-I6T\",\n",
    "        \"housing_addresses\": \"1mOK0uyRz5Zs-Qo7mVMlxwtb2xn1E6N9Q\",\n",
    "    }\n",
    "\n",
    "    if dataset_name in name_to_id:\n",
    "        try:\n",
    "            path = '../data/'\n",
    "            file_url = (\n",
    "                \"https://docs.google.com/uc?export=download&id=\"\n",
    "                + name_to_id[dataset_name]\n",
    "            )\n",
    "            wget.download(file_url, out=path)\n",
    "        except Exception as e:\n",
    "            print(\"Something went wrong during download. Try again.\")\n",
    "            raise e\n",
    "        print(f\"Download of {dataset_name} dataset complete.\")\n",
    "    else:\n",
    "        raise KeyError(\"File not on Google Drive.\")"
   ]
  },
  {
   "cell_type": "markdown",
   "metadata": {},
   "source": [
    "Dowload the California housing dataset:"
   ]
  },
  {
   "cell_type": "code",
   "execution_count": null,
   "metadata": {},
   "outputs": [
    {
     "name": "stdout",
     "output_type": "stream",
     "text": [
      "Download of housing dataset complete.\n"
     ]
    }
   ],
   "source": [
    "get_dataset('housing')"
   ]
  },
  {
   "cell_type": "code",
   "execution_count": null,
   "metadata": {},
   "outputs": [
    {
     "name": "stdout",
     "output_type": "stream",
     "text": [
      "Download of imdb dataset complete.\n"
     ]
    }
   ],
   "source": [
    "get_dataset('imdb')"
   ]
  },
  {
   "cell_type": "code",
   "execution_count": null,
   "metadata": {},
   "outputs": [
    {
     "name": "stdout",
     "output_type": "stream",
     "text": [
      "Download of housing_gmaps dataset complete.\n"
     ]
    }
   ],
   "source": [
    "get_dataset('housing_gmaps')"
   ]
  },
  {
   "cell_type": "code",
   "execution_count": null,
   "metadata": {},
   "outputs": [
    {
     "name": "stdout",
     "output_type": "stream",
     "text": [
      "Download of housing_addresses dataset complete.\n"
     ]
    }
   ],
   "source": [
    "get_dataset('housing_addresses')"
   ]
  },
  {
   "cell_type": "code",
   "execution_count": null,
   "metadata": {},
   "outputs": [],
   "source": []
  }
 ],
 "metadata": {
  "kernelspec": {
   "display_name": "Python 3",
   "language": "python",
   "name": "python3"
  }
 },
 "nbformat": 4,
 "nbformat_minor": 4
}

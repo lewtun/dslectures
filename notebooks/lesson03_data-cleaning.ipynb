{
 "cells": [
  {
   "cell_type": "markdown",
   "metadata": {},
   "source": [
    "# Lesson 3 - Data cleaning and feature engineering\n",
    "\n",
    "> How to prepare data for machine learning algorithms and create new, informative features"
   ]
  },
  {
   "cell_type": "markdown",
   "metadata": {},
   "source": [
    "[![Binder](https://mybinder.org/badge_logo.svg)](https://mybinder.org/v2/gh/lewtun/dslectures/master?urlpath=lab/tree/notebooks%2Flesson02_exploratory-data-analysis.ipynb) \n",
    "[![slides](https://img.shields.io/static/v1?label=slides&message=lesson02_exploratory-data-analysis.pdf&color=blue&logo=Google-drive)](https://drive.google.com/open?id=1o7zrt0wB5XeJp1r16hv2dUVQVQEVAygl)"
   ]
  },
  {
   "cell_type": "markdown",
   "metadata": {},
   "source": [
    "## Learning objectives"
   ]
  },
  {
   "cell_type": "markdown",
   "metadata": {},
   "source": [
    "* Understand the main steps involved in preparing data for machine learning algorithms"
   ]
  },
  {
   "cell_type": "markdown",
   "metadata": {},
   "source": [
    "## References"
   ]
  },
  {
   "cell_type": "markdown",
   "metadata": {},
   "source": [
    "This lesson draws heavily on the following textbook chapter:\n",
    "\n",
    "* Chapter 2 of _Hands-On Machine Learning with Scikit-Learn and TensorFlow_ by Aurèlien Geron\n",
    "\n",
    "You may also find the following blog posts useful:\n",
    "\n",
    "* [Machine Learning with Kaggle: Feature Engineering\n",
    "](https://www.datacamp.com/community/tutorials/feature-engineering-kaggle)\n",
    "* Sections 2 and 3 of [Intermediate Machine Learning](https://www.kaggle.com/learn/intermediate-machine-learning) on Kaggle Learn"
   ]
  },
  {
   "cell_type": "markdown",
   "metadata": {},
   "source": [
    "## Homework\n",
    "\n",
    "* Solve the exercises included in this notebook\n",
    "* Read chapter 3 of _Data Science for Business_ by Provost & Fawcett"
   ]
  },
  {
   "cell_type": "markdown",
   "metadata": {},
   "source": [
    "## What is data cleaning?"
   ]
  },
  {
   "cell_type": "markdown",
   "metadata": {},
   "source": [
    "<div style=\"text-align: center\">\n",
    "<img src='images/data-cleaning.png' width='250'>\n",
    "</div>\n",
    "\n",
    "When you receive a new dataset at the beginning of a project, the first task usually involves some form of data cleaning. \n",
    "\n",
    "To solve the task at hand, you might need data from multiple sources which you need to combine into one unified table. However, this is usually a tricky task; the different data sources might have different naming conventions, some of them might be human-generated, while others are automatic system reports. A list of things you usually have to go through are the following:\n",
    "\n",
    "* Merge multiple sources into one table\n",
    "* Remove duplicate entries\n",
    "* Clean corrupted entries\n",
    "* Handle missing data\n",
    "\n",
    "In lesson 2, we examined how to merge the table of housing data with their addresses; in this lesson we will focus on the remainign three steps.\n",
    "\n",
    "Although building algorithms that are able to classify data or estimate outcomes is arguably the most interesting part of data science, data cleaning is the one that takes up most of the time. According to a study by [CrowdFlower](https://www.forbes.com/sites/gilpress/2016/03/23/data-preparation-most-time-consuming-least-enjoyable-data-science-task-survey-says/#67beee196f63), data scientists spend about 60-80% of their time preparing datasets for machine learning algorithms.\n",
    "\n",
    "<div style=\"text-align: center\">\n",
    "<img src='images/What-data-scientists-spend-the-most-time-doing.jpg' width='400'>\n",
    "</div>"
   ]
  },
  {
   "cell_type": "markdown",
   "metadata": {},
   "source": [
    "## The data"
   ]
  },
  {
   "cell_type": "markdown",
   "metadata": {},
   "source": [
    "In this lesson we will analyse the unified table of housing data and their addresses that we created in lesson 2:\n",
    "\n",
    "* `housing_merged.csv`"
   ]
  },
  {
   "cell_type": "markdown",
   "metadata": {},
   "source": [
    "## Import libraries"
   ]
  },
  {
   "cell_type": "markdown",
   "metadata": {},
   "source": [
    "As in previous lessons, we will be making use of the pandas and seaborn libraries."
   ]
  },
  {
   "cell_type": "code",
   "execution_count": null,
   "metadata": {},
   "outputs": [],
   "source": [
    "# reload modules before executing user code\n",
    "%load_ext autoreload\n",
    "# reload all modules every time before executing the Python code\n",
    "%autoreload 2\n",
    "# render plots in notebook\n",
    "%matplotlib inline"
   ]
  },
  {
   "cell_type": "code",
   "execution_count": null,
   "metadata": {},
   "outputs": [],
   "source": [
    "# data wrangling\n",
    "import pandas as pd\n",
    "import numpy as np\n",
    "from pathlib import Path\n",
    "from dslectures.core import *\n",
    "\n",
    "# data viz\n",
    "import seaborn as sns\n",
    "import matplotlib.pyplot as plt\n",
    "import matplotlib.image as mpimg\n",
    "\n",
    "# these commands define the color scheme\n",
    "sns.set(color_codes=True)\n",
    "sns.set_palette(sns.color_palette('muted'))"
   ]
  },
  {
   "cell_type": "markdown",
   "metadata": {},
   "source": [
    "## Load the data"
   ]
  },
  {
   "cell_type": "markdown",
   "metadata": {},
   "source": [
    "As usual, we can download our datasets using our helper function `get_datasets`:"
   ]
  },
  {
   "cell_type": "code",
   "execution_count": null,
   "metadata": {},
   "outputs": [],
   "source": [
    "# get_dataset('housing_merged')"
   ]
  },
  {
   "cell_type": "markdown",
   "metadata": {},
   "source": [
    "We also make use of the `pathlib` library to handle our filepaths:"
   ]
  },
  {
   "cell_type": "code",
   "execution_count": null,
   "metadata": {},
   "outputs": [
    {
     "name": "stdout",
     "output_type": "stream",
     "text": [
      "housing (1).csv                housing_gmaps_data_raw.csv\n",
      "housing.csv                    housing_merged.csv\n",
      "housing_addresses (1).csv      housing_processed.csv\n",
      "housing_addresses.csv          imdb.csv\n",
      "housing_backup.csv             uc\n",
      "housing_gmaps_data_raw (1).csv\n"
     ]
    }
   ],
   "source": [
    "DATA = Path('../data/')\n",
    "!ls {DATA}"
   ]
  },
  {
   "cell_type": "code",
   "execution_count": null,
   "metadata": {},
   "outputs": [
    {
     "data": {
      "text/html": [
       "<div>\n",
       "<style scoped>\n",
       "    .dataframe tbody tr th:only-of-type {\n",
       "        vertical-align: middle;\n",
       "    }\n",
       "\n",
       "    .dataframe tbody tr th {\n",
       "        vertical-align: top;\n",
       "    }\n",
       "\n",
       "    .dataframe thead th {\n",
       "        text-align: right;\n",
       "    }\n",
       "</style>\n",
       "<table border=\"1\" class=\"dataframe\">\n",
       "  <thead>\n",
       "    <tr style=\"text-align: right;\">\n",
       "      <th></th>\n",
       "      <th>longitude</th>\n",
       "      <th>latitude</th>\n",
       "      <th>housing_median_age</th>\n",
       "      <th>total_rooms</th>\n",
       "      <th>total_bedrooms</th>\n",
       "      <th>population</th>\n",
       "      <th>households</th>\n",
       "      <th>median_income</th>\n",
       "      <th>median_house_value</th>\n",
       "      <th>ocean_proximity</th>\n",
       "      <th>street_number</th>\n",
       "      <th>street_name</th>\n",
       "      <th>city</th>\n",
       "      <th>postal_code</th>\n",
       "    </tr>\n",
       "  </thead>\n",
       "  <tbody>\n",
       "    <tr>\n",
       "      <th>0</th>\n",
       "      <td>-122.23</td>\n",
       "      <td>37.88</td>\n",
       "      <td>41.0</td>\n",
       "      <td>880.0</td>\n",
       "      <td>129.0</td>\n",
       "      <td>322.0</td>\n",
       "      <td>126.0</td>\n",
       "      <td>8.3252</td>\n",
       "      <td>452600.0</td>\n",
       "      <td>NEAR BAY</td>\n",
       "      <td>3130</td>\n",
       "      <td>Grizzly Peak Boulevard</td>\n",
       "      <td>Berkeley</td>\n",
       "      <td>94705.0</td>\n",
       "    </tr>\n",
       "    <tr>\n",
       "      <th>1</th>\n",
       "      <td>-122.22</td>\n",
       "      <td>37.86</td>\n",
       "      <td>21.0</td>\n",
       "      <td>7099.0</td>\n",
       "      <td>1106.0</td>\n",
       "      <td>2401.0</td>\n",
       "      <td>1138.0</td>\n",
       "      <td>8.3014</td>\n",
       "      <td>358500.0</td>\n",
       "      <td>NEAR BAY</td>\n",
       "      <td>2005</td>\n",
       "      <td>Tunnel Road</td>\n",
       "      <td>Oakland</td>\n",
       "      <td>94611.0</td>\n",
       "    </tr>\n",
       "    <tr>\n",
       "      <th>2</th>\n",
       "      <td>-122.24</td>\n",
       "      <td>37.85</td>\n",
       "      <td>52.0</td>\n",
       "      <td>1467.0</td>\n",
       "      <td>190.0</td>\n",
       "      <td>496.0</td>\n",
       "      <td>177.0</td>\n",
       "      <td>7.2574</td>\n",
       "      <td>352100.0</td>\n",
       "      <td>NEAR BAY</td>\n",
       "      <td>6886</td>\n",
       "      <td>Chabot Road</td>\n",
       "      <td>Oakland</td>\n",
       "      <td>94618.0</td>\n",
       "    </tr>\n",
       "    <tr>\n",
       "      <th>3</th>\n",
       "      <td>-122.25</td>\n",
       "      <td>37.85</td>\n",
       "      <td>52.0</td>\n",
       "      <td>1274.0</td>\n",
       "      <td>235.0</td>\n",
       "      <td>558.0</td>\n",
       "      <td>219.0</td>\n",
       "      <td>5.6431</td>\n",
       "      <td>341300.0</td>\n",
       "      <td>NEAR BAY</td>\n",
       "      <td>6365</td>\n",
       "      <td>Florio Street</td>\n",
       "      <td>Oakland</td>\n",
       "      <td>94618.0</td>\n",
       "    </tr>\n",
       "    <tr>\n",
       "      <th>4</th>\n",
       "      <td>-122.25</td>\n",
       "      <td>37.85</td>\n",
       "      <td>52.0</td>\n",
       "      <td>1627.0</td>\n",
       "      <td>280.0</td>\n",
       "      <td>565.0</td>\n",
       "      <td>259.0</td>\n",
       "      <td>3.8462</td>\n",
       "      <td>342200.0</td>\n",
       "      <td>NEAR BAY</td>\n",
       "      <td>6365</td>\n",
       "      <td>Florio Street</td>\n",
       "      <td>Oakland</td>\n",
       "      <td>94618.0</td>\n",
       "    </tr>\n",
       "  </tbody>\n",
       "</table>\n",
       "</div>"
      ],
      "text/plain": [
       "   longitude  latitude  housing_median_age  total_rooms  total_bedrooms  \\\n",
       "0    -122.23     37.88                41.0        880.0           129.0   \n",
       "1    -122.22     37.86                21.0       7099.0          1106.0   \n",
       "2    -122.24     37.85                52.0       1467.0           190.0   \n",
       "3    -122.25     37.85                52.0       1274.0           235.0   \n",
       "4    -122.25     37.85                52.0       1627.0           280.0   \n",
       "\n",
       "   population  households  median_income  median_house_value ocean_proximity  \\\n",
       "0       322.0       126.0         8.3252            452600.0        NEAR BAY   \n",
       "1      2401.0      1138.0         8.3014            358500.0        NEAR BAY   \n",
       "2       496.0       177.0         7.2574            352100.0        NEAR BAY   \n",
       "3       558.0       219.0         5.6431            341300.0        NEAR BAY   \n",
       "4       565.0       259.0         3.8462            342200.0        NEAR BAY   \n",
       "\n",
       "  street_number             street_name      city  postal_code  \n",
       "0          3130  Grizzly Peak Boulevard  Berkeley      94705.0  \n",
       "1          2005             Tunnel Road   Oakland      94611.0  \n",
       "2          6886             Chabot Road   Oakland      94618.0  \n",
       "3          6365           Florio Street   Oakland      94618.0  \n",
       "4          6365           Florio Street   Oakland      94618.0  "
      ]
     },
     "execution_count": null,
     "metadata": {},
     "output_type": "execute_result"
    }
   ],
   "source": [
    "housing_data = pd.read_csv(DATA/'housing_merged.csv'); housing_data.head()"
   ]
  },
  {
   "cell_type": "markdown",
   "metadata": {},
   "source": [
    "## Feature engineering"
   ]
  },
  {
   "cell_type": "markdown",
   "metadata": {},
   "source": [
    "Before we prepare the data for training machine learning models, it is useful to experiment with creating new _**features**_ (i.e. columns) that may provide more information than the raw data alone. For example the column `total_rooms` refers to the total number of rooms in a housing district, and thus it is more useful to know the number of rooms per household. In pandas, we can create this new column as follows:"
   ]
  },
  {
   "cell_type": "code",
   "execution_count": null,
   "metadata": {},
   "outputs": [
    {
     "data": {
      "text/html": [
       "<div>\n",
       "<style scoped>\n",
       "    .dataframe tbody tr th:only-of-type {\n",
       "        vertical-align: middle;\n",
       "    }\n",
       "\n",
       "    .dataframe tbody tr th {\n",
       "        vertical-align: top;\n",
       "    }\n",
       "\n",
       "    .dataframe thead th {\n",
       "        text-align: right;\n",
       "    }\n",
       "</style>\n",
       "<table border=\"1\" class=\"dataframe\">\n",
       "  <thead>\n",
       "    <tr style=\"text-align: right;\">\n",
       "      <th></th>\n",
       "      <th>longitude</th>\n",
       "      <th>latitude</th>\n",
       "      <th>housing_median_age</th>\n",
       "      <th>total_rooms</th>\n",
       "      <th>total_bedrooms</th>\n",
       "      <th>population</th>\n",
       "      <th>households</th>\n",
       "      <th>median_income</th>\n",
       "      <th>median_house_value</th>\n",
       "      <th>ocean_proximity</th>\n",
       "      <th>street_number</th>\n",
       "      <th>street_name</th>\n",
       "      <th>city</th>\n",
       "      <th>postal_code</th>\n",
       "      <th>rooms_per_household</th>\n",
       "    </tr>\n",
       "  </thead>\n",
       "  <tbody>\n",
       "    <tr>\n",
       "      <th>0</th>\n",
       "      <td>-122.23</td>\n",
       "      <td>37.88</td>\n",
       "      <td>41.0</td>\n",
       "      <td>880.0</td>\n",
       "      <td>129.0</td>\n",
       "      <td>322.0</td>\n",
       "      <td>126.0</td>\n",
       "      <td>8.3252</td>\n",
       "      <td>452600.0</td>\n",
       "      <td>NEAR BAY</td>\n",
       "      <td>3130</td>\n",
       "      <td>Grizzly Peak Boulevard</td>\n",
       "      <td>Berkeley</td>\n",
       "      <td>94705.0</td>\n",
       "      <td>6.984127</td>\n",
       "    </tr>\n",
       "  </tbody>\n",
       "</table>\n",
       "</div>"
      ],
      "text/plain": [
       "   longitude  latitude  housing_median_age  total_rooms  total_bedrooms  \\\n",
       "0    -122.23     37.88                41.0        880.0           129.0   \n",
       "\n",
       "   population  households  median_income  median_house_value ocean_proximity  \\\n",
       "0       322.0       126.0         8.3252            452600.0        NEAR BAY   \n",
       "\n",
       "  street_number             street_name      city  postal_code  \\\n",
       "0          3130  Grizzly Peak Boulevard  Berkeley      94705.0   \n",
       "\n",
       "   rooms_per_household  \n",
       "0             6.984127  "
      ]
     },
     "execution_count": null,
     "metadata": {},
     "output_type": "execute_result"
    }
   ],
   "source": [
    "housing_data['rooms_per_household'] = housing_data['total_rooms'] / housing_data['households']\n",
    "\n",
    "# check we have added the column\n",
    "housing_data.head(1)"
   ]
  },
  {
   "cell_type": "markdown",
   "metadata": {},
   "source": [
    "---\n",
    "\n",
    "#### Exercise #1\n",
    "\n",
    "* Create a new feature called `bedrooms_per_household` from the `total_bedrooms` and `households` features\n",
    "* Create a new feature called `bedrooms_per_room` from the `total_bedrooms` and `total_rooms` features\n",
    "* Create a new feature called `population_per_household` from the `population` and `households` features\n",
    "* Recalculate the correlation matrix from lesson 1 - what can you conclude about the correlation of the new features with the median house value?\n",
    "\n",
    "---"
   ]
  },
  {
   "cell_type": "code",
   "execution_count": null,
   "metadata": {},
   "outputs": [
    {
     "data": {
      "text/plain": [
       "median_house_value          1.000000\n",
       "median_income               0.688075\n",
       "rooms_per_household         0.151948\n",
       "total_rooms                 0.134153\n",
       "housing_median_age          0.105623\n",
       "households                  0.065843\n",
       "total_bedrooms              0.049686\n",
       "population_per_household   -0.023737\n",
       "population                 -0.024650\n",
       "longitude                  -0.045967\n",
       "bedrooms_per_household     -0.046739\n",
       "latitude                   -0.144160\n",
       "postal_code                -0.181029\n",
       "bedrooms_per_room          -0.255880\n",
       "Name: median_house_value, dtype: float64"
      ]
     },
     "execution_count": null,
     "metadata": {},
     "output_type": "execute_result"
    }
   ],
   "source": [
    "# delete this!\n",
    "housing_data['bedrooms_per_household'] = housing_data['total_bedrooms'] / housing_data['households']\n",
    "housing_data['bedrooms_per_room'] = housing_data['total_bedrooms'] / housing_data['total_rooms']\n",
    "housing_data['population_per_household'] = housing_data['population'] / housing_data['households']\n",
    "\n",
    "correlation_matrix = housing_data.corr()\n",
    "correlation_matrix['median_house_value'].sort_values(ascending=False)"
   ]
  },
  {
   "cell_type": "markdown",
   "metadata": {},
   "source": [
    "## Convert strings to categories"
   ]
  },
  {
   "cell_type": "markdown",
   "metadata": {},
   "source": [
    "If we inspect the data types associated with our housing `pandas.DataFrame`"
   ]
  },
  {
   "cell_type": "code",
   "execution_count": null,
   "metadata": {},
   "outputs": [
    {
     "data": {
      "text/plain": [
       "longitude                   float64\n",
       "latitude                    float64\n",
       "housing_median_age          float64\n",
       "total_rooms                 float64\n",
       "total_bedrooms              float64\n",
       "population                  float64\n",
       "households                  float64\n",
       "median_income               float64\n",
       "median_house_value          float64\n",
       "ocean_proximity              object\n",
       "street_number                object\n",
       "street_name                  object\n",
       "city                         object\n",
       "postal_code                 float64\n",
       "rooms_per_household         float64\n",
       "bedrooms_per_household      float64\n",
       "bedrooms_per_room           float64\n",
       "population_per_household    float64\n",
       "dtype: object"
      ]
     },
     "execution_count": null,
     "metadata": {},
     "output_type": "execute_result"
    }
   ],
   "source": [
    "housing_data.dtypes"
   ]
  },
  {
   "cell_type": "markdown",
   "metadata": {},
   "source": [
    "we see that in addition to numerical features, we have features of `object` data type, which pandas denotes with the string `O`:"
   ]
  },
  {
   "cell_type": "code",
   "execution_count": null,
   "metadata": {},
   "outputs": [
    {
     "data": {
      "text/plain": [
       "dtype('O')"
      ]
     },
     "execution_count": null,
     "metadata": {},
     "output_type": "execute_result"
    }
   ],
   "source": [
    "housing_data['ocean_proximity'].dtype"
   ]
  },
  {
   "cell_type": "code",
   "execution_count": null,
   "metadata": {},
   "outputs": [
    {
     "data": {
      "text/plain": [
       "dtype('float64')"
      ]
     },
     "execution_count": null,
     "metadata": {},
     "output_type": "execute_result"
    }
   ],
   "source": [
    "# compare against numerical column\n",
    "housing_data['median_house_value'].dtype"
   ]
  },
  {
   "cell_type": "markdown",
   "metadata": {},
   "source": [
    "pandas has a handy set of functions to test the data type of each column. For example, to check whether a column is of object or numeric type we can import the following functions"
   ]
  },
  {
   "cell_type": "code",
   "execution_count": null,
   "metadata": {},
   "outputs": [],
   "source": [
    "from pandas.api.types import is_object_dtype, is_numeric_dtype"
   ]
  },
  {
   "cell_type": "markdown",
   "metadata": {},
   "source": [
    "and then test them against some columns:"
   ]
  },
  {
   "cell_type": "code",
   "execution_count": null,
   "metadata": {},
   "outputs": [
    {
     "data": {
      "text/plain": [
       "True"
      ]
     },
     "execution_count": null,
     "metadata": {},
     "output_type": "execute_result"
    }
   ],
   "source": [
    "is_object_dtype(housing_data['ocean_proximity'])"
   ]
  },
  {
   "cell_type": "code",
   "execution_count": null,
   "metadata": {},
   "outputs": [
    {
     "data": {
      "text/plain": [
       "False"
      ]
     },
     "execution_count": null,
     "metadata": {},
     "output_type": "execute_result"
    }
   ],
   "source": [
    "is_numeric_dtype(housing_data['ocean_proximity'])"
   ]
  },
  {
   "cell_type": "code",
   "execution_count": null,
   "metadata": {},
   "outputs": [
    {
     "data": {
      "text/plain": [
       "True"
      ]
     },
     "execution_count": null,
     "metadata": {},
     "output_type": "execute_result"
    }
   ],
   "source": [
    "is_numeric_dtype(housing_data['median_house_value'])"
   ]
  },
  {
   "cell_type": "markdown",
   "metadata": {},
   "source": [
    "In this case, we know these columns are _strings_ and some step is needed to convert them to numerical form because most machine learning algorithms are best suited for doing computations on arrays of numbers, not strings.\n",
    "\n",
    "pandas has a special `Categorical` type for holding data that uses the integer-based categorical representation or **_encoding_**. For example `housing_data['ocean_proximity']` is a `pandas.Series` of Python string objects `['NEAR BAY', '<1H OCEAN', 'INLAND', 'NEAR OCEAN', 'ISLAND']`. We can convert a `pandas.DataFrame` column to categorical as follows:"
   ]
  },
  {
   "cell_type": "code",
   "execution_count": null,
   "metadata": {},
   "outputs": [],
   "source": [
    "housing_data['ocean_proximity'] = housing_data['ocean_proximity'].astype('category')"
   ]
  },
  {
   "cell_type": "markdown",
   "metadata": {},
   "source": [
    "The resulting `Categorical` object has `categories` and `codes` attributes that can be accessed as follows:"
   ]
  },
  {
   "cell_type": "code",
   "execution_count": null,
   "metadata": {},
   "outputs": [
    {
     "data": {
      "text/plain": [
       "Index(['<1H OCEAN', 'INLAND', 'ISLAND', 'NEAR BAY', 'NEAR OCEAN'], dtype='object')"
      ]
     },
     "execution_count": null,
     "metadata": {},
     "output_type": "execute_result"
    }
   ],
   "source": [
    "housing_data['ocean_proximity'].cat.categories"
   ]
  },
  {
   "cell_type": "code",
   "execution_count": null,
   "metadata": {},
   "outputs": [
    {
     "data": {
      "text/plain": [
       "0        3\n",
       "1        3\n",
       "2        3\n",
       "3        3\n",
       "4        3\n",
       "        ..\n",
       "20635    1\n",
       "20636    1\n",
       "20637    1\n",
       "20638    1\n",
       "20639    1\n",
       "Length: 20640, dtype: int8"
      ]
     },
     "execution_count": null,
     "metadata": {},
     "output_type": "execute_result"
    }
   ],
   "source": [
    "housing_data['ocean_proximity'].cat.codes"
   ]
  },
  {
   "cell_type": "markdown",
   "metadata": {},
   "source": [
    "> Note: pandas will display `Categorical` features as text and treat them internally as numerical."
   ]
  },
  {
   "cell_type": "markdown",
   "metadata": {},
   "source": [
    "Sometimes we may want to reorder by hand the categorical variables. For example, with our `ocean_proximity` feature, it makes more sense to order the categories by distance to the ocean:"
   ]
  },
  {
   "cell_type": "code",
   "execution_count": null,
   "metadata": {},
   "outputs": [],
   "source": [
    "housing_data[\"ocean_proximity\"].cat.set_categories(\n",
    "    [\"INLAND\", \"<1H OCEAN\", \"NEAR BAY\", \"NEAR OCEAN\", \"ISLAND\"], ordered=True, inplace=True\n",
    ")"
   ]
  },
  {
   "cell_type": "markdown",
   "metadata": {},
   "source": [
    "> Tip: Instead of doing each data cleaning step manually, it is a good idea to write functions that automate the process. The main benefits from doing so is that you will be able to reproduce your results at a later date and can reuse the functions in future projects. The exercise below is desiged to help you create your first data cleaning function!"
   ]
  },
  {
   "cell_type": "markdown",
   "metadata": {},
   "source": [
    "---\n",
    "\n",
    "#### Exercise #2\n",
    "\n",
    "* Create a function called `convert_strings_to_categories` that takes a `pandas.DataFrame` as an argument and converts all columns of `object` type into `Categorical`. Note that the operation can be done in-place and thus your function should not return any objects. You may find the commands `DataFrame.columns` and `is_numeric_dtype` are useful.\n",
    "* Check that the transformed `housing_data` has the expected data types.\n",
    "\n",
    "---"
   ]
  },
  {
   "cell_type": "code",
   "execution_count": null,
   "metadata": {},
   "outputs": [],
   "source": [
    "# delete this!\n",
    "def convert_strings_to_categories(df):\n",
    "    for col in df.columns:\n",
    "        if is_object_dtype(df[col]):\n",
    "            df[col] = df[col].astype('category')"
   ]
  },
  {
   "cell_type": "code",
   "execution_count": null,
   "metadata": {},
   "outputs": [
    {
     "data": {
      "text/plain": [
       "longitude                    float64\n",
       "latitude                     float64\n",
       "housing_median_age           float64\n",
       "total_rooms                  float64\n",
       "total_bedrooms               float64\n",
       "population                   float64\n",
       "households                   float64\n",
       "median_income                float64\n",
       "median_house_value           float64\n",
       "ocean_proximity             category\n",
       "street_number               category\n",
       "street_name                 category\n",
       "city                        category\n",
       "postal_code                  float64\n",
       "rooms_per_household          float64\n",
       "bedrooms_per_household       float64\n",
       "bedrooms_per_room            float64\n",
       "population_per_household     float64\n",
       "dtype: object"
      ]
     },
     "execution_count": null,
     "metadata": {},
     "output_type": "execute_result"
    }
   ],
   "source": [
    "convert_strings_to_categories(housing_data)\n",
    "housing_data.dtypes"
   ]
  },
  {
   "cell_type": "markdown",
   "metadata": {},
   "source": [
    "## Dealing with missing values"
   ]
  },
  {
   "cell_type": "markdown",
   "metadata": {},
   "source": [
    "In general, machine learning algorithms will fail to work with missing data, and in general you have three options to handle them:\n",
    "\n",
    "* Get rid of the corresponding rows\n",
    "* Get rid of the whole feature or column\n",
    "* Replace the missing values with some value like zero or the mean, median of the column.\n",
    "\n",
    "A quick way to check if there's any missing data is to run the pandas `DataFrame.info()` method:"
   ]
  },
  {
   "cell_type": "code",
   "execution_count": null,
   "metadata": {},
   "outputs": [
    {
     "name": "stdout",
     "output_type": "stream",
     "text": [
      "<class 'pandas.core.frame.DataFrame'>\n",
      "RangeIndex: 20640 entries, 0 to 20639\n",
      "Data columns (total 18 columns):\n",
      " #   Column                    Non-Null Count  Dtype   \n",
      "---  ------                    --------------  -----   \n",
      " 0   longitude                 20640 non-null  float64 \n",
      " 1   latitude                  20640 non-null  float64 \n",
      " 2   housing_median_age        20640 non-null  float64 \n",
      " 3   total_rooms               20640 non-null  float64 \n",
      " 4   total_bedrooms            20433 non-null  float64 \n",
      " 5   population                20640 non-null  float64 \n",
      " 6   households                20640 non-null  float64 \n",
      " 7   median_income             20640 non-null  float64 \n",
      " 8   median_house_value        20640 non-null  float64 \n",
      " 9   ocean_proximity           20640 non-null  category\n",
      " 10  street_number             19008 non-null  category\n",
      " 11  street_name               20091 non-null  category\n",
      " 12  city                      20452 non-null  category\n",
      " 13  postal_code               20454 non-null  float64 \n",
      " 14  rooms_per_household       20640 non-null  float64 \n",
      " 15  bedrooms_per_household    20433 non-null  float64 \n",
      " 16  bedrooms_per_room         20433 non-null  float64 \n",
      " 17  population_per_household  20640 non-null  float64 \n",
      "dtypes: category(4), float64(14)\n",
      "memory usage: 3.1 MB\n"
     ]
    }
   ],
   "source": [
    "housing_data.info()"
   ]
  },
  {
   "cell_type": "markdown",
   "metadata": {},
   "source": [
    "Since `housing_data` has 20,640 rows we see that the following columns are missing values:\n",
    "\n",
    "* `total_bedrooms`\n",
    "* `street_number`\n",
    "* `street_name`\n",
    "* `city`\n",
    "* `postal_code`\n",
    "* `bedrooms_per_household`\n",
    "* `bedrooms_per_room`"
   ]
  },
  {
   "cell_type": "markdown",
   "metadata": {},
   "source": [
    "An alternative way to verify this is to apply the `DataFrame.isnull()` method and calculate the sum of missing values in `housing_data`:"
   ]
  },
  {
   "cell_type": "code",
   "execution_count": null,
   "metadata": {},
   "outputs": [
    {
     "data": {
      "text/plain": [
       "longitude                      0\n",
       "latitude                       0\n",
       "housing_median_age             0\n",
       "total_rooms                    0\n",
       "total_bedrooms               207\n",
       "population                     0\n",
       "households                     0\n",
       "median_income                  0\n",
       "median_house_value             0\n",
       "ocean_proximity                0\n",
       "street_number               1632\n",
       "street_name                  549\n",
       "city                         188\n",
       "postal_code                  186\n",
       "rooms_per_household            0\n",
       "bedrooms_per_household       207\n",
       "bedrooms_per_room            207\n",
       "population_per_household       0\n",
       "dtype: int64"
      ]
     },
     "execution_count": null,
     "metadata": {},
     "output_type": "execute_result"
    }
   ],
   "source": [
    "housing_data.isnull().sum()"
   ]
  },
  {
   "cell_type": "markdown",
   "metadata": {},
   "source": [
    "---\n",
    "\n",
    "#### Exercise #3\n",
    "\n",
    "It is often more informative to know the fraction or percentage of missing values in a `pandas.DataFrame`. \n",
    "\n",
    "* Calculate the _fraction_ of missing values in `housing_data` and sort them in descending order.\n",
    "* Use seaborn to create a bar plot that shows the fraction of missing data that you calculated above.\n",
    "\n",
    "---"
   ]
  },
  {
   "cell_type": "markdown",
   "metadata": {},
   "source": [
    "### Getting rid of rows"
   ]
  },
  {
   "cell_type": "markdown",
   "metadata": {},
   "source": [
    "Let's look at our first option to handle missing data: getting rid of rows. One candidate for this is the `city` column since dropping the 188 rows amounts to less than 1% of the total dataset. To achieve this we can use the `DataFrame.dropna()` method as follows:"
   ]
  },
  {
   "cell_type": "code",
   "execution_count": null,
   "metadata": {},
   "outputs": [
    {
     "data": {
      "text/plain": [
       "0"
      ]
     },
     "execution_count": null,
     "metadata": {},
     "output_type": "execute_result"
    }
   ],
   "source": [
    "housing_data.dropna(subset=['city'], inplace=True)\n",
    "# check city has no missing values\n",
    "housing_data['city'].isnull().sum()"
   ]
  },
  {
   "cell_type": "markdown",
   "metadata": {},
   "source": [
    "---\n",
    "\n",
    "#### Exercise #4\n",
    "\n",
    "Use the same technique as above to remove the rows whether the `postal_code` values are missing\n",
    "\n",
    "---"
   ]
  },
  {
   "cell_type": "code",
   "execution_count": null,
   "metadata": {},
   "outputs": [
    {
     "data": {
      "text/plain": [
       "0"
      ]
     },
     "execution_count": null,
     "metadata": {},
     "output_type": "execute_result"
    }
   ],
   "source": [
    "housing_data.dropna(subset=['postal_code'], inplace=True)\n",
    "# check postal_code has no missing values\n",
    "housing_data['postal_code'].isnull().sum()"
   ]
  },
  {
   "cell_type": "markdown",
   "metadata": {},
   "source": [
    "### Getting rid of whole features"
   ]
  },
  {
   "cell_type": "markdown",
   "metadata": {},
   "source": [
    "We still have missing values for the categorical features `street_number` and `street_name`. For such data one simple approach is to replace the missing values with the _most frequent entry_. However, for these specific attributes it does not make much sense to replace e.g. the missing street names with the most common ones in some other city.\n",
    "\n",
    "To that end, we will drop the `street_number` and `street_name` columns."
   ]
  },
  {
   "cell_type": "markdown",
   "metadata": {},
   "source": [
    "---\n",
    "\n",
    "#### Exercise #5\n",
    "\n",
    "Drop the `street_number`, `street_name` and `postal_code` columns from `housing_data`\n",
    "\n",
    "---"
   ]
  },
  {
   "cell_type": "code",
   "execution_count": null,
   "metadata": {},
   "outputs": [],
   "source": [
    "housing_data.drop(columns=['street_number', 'street_name'], axis=1, inplace=True)"
   ]
  },
  {
   "cell_type": "code",
   "execution_count": null,
   "metadata": {},
   "outputs": [
    {
     "data": {
      "text/plain": [
       "longitude                     0\n",
       "latitude                      0\n",
       "housing_median_age            0\n",
       "total_rooms                   0\n",
       "total_bedrooms              207\n",
       "population                    0\n",
       "households                    0\n",
       "median_income                 0\n",
       "median_house_value            0\n",
       "ocean_proximity               0\n",
       "city                          0\n",
       "postal_code                   0\n",
       "rooms_per_household           0\n",
       "bedrooms_per_household      207\n",
       "bedrooms_per_room           207\n",
       "population_per_household      0\n",
       "dtype: int64"
      ]
     },
     "execution_count": null,
     "metadata": {},
     "output_type": "execute_result"
    }
   ],
   "source": [
    "housing_data.isnull().sum()"
   ]
  },
  {
   "cell_type": "markdown",
   "metadata": {},
   "source": [
    "### Fill missing values"
   ]
  },
  {
   "cell_type": "markdown",
   "metadata": {},
   "source": [
    "For the numerical columns, let's replace the missing values by the median. "
   ]
  },
  {
   "cell_type": "markdown",
   "metadata": {},
   "source": [
    "> Note: We choose the median since it is more robust to outliers than the mean, but in general one should experiment with different combinations."
   ]
  },
  {
   "cell_type": "markdown",
   "metadata": {},
   "source": [
    "For example, with `total_bedrooms` this might look like the following:"
   ]
  },
  {
   "cell_type": "code",
   "execution_count": null,
   "metadata": {},
   "outputs": [
    {
     "data": {
      "text/plain": [
       "0"
      ]
     },
     "execution_count": null,
     "metadata": {},
     "output_type": "execute_result"
    }
   ],
   "source": [
    "# calculate median total number of bedrooms\n",
    "total_bedrooms_median = housing_data['total_bedrooms'].median()\n",
    "# use inplace=True to make replacement in place\n",
    "housing_data['total_bedrooms'].fillna(total_bedrooms_median, inplace=True)\n",
    "# check replacement worked\n",
    "housing_data['total_bedrooms'].isnull().sum()"
   ]
  },
  {
   "cell_type": "markdown",
   "metadata": {},
   "source": [
    "Although doing this replacement manually for each numerical column is feasible for this small dataset, it would be much better to have a function that automates this process."
   ]
  },
  {
   "cell_type": "markdown",
   "metadata": {},
   "source": [
    "---\n",
    "\n",
    "#### Exercise #6\n",
    "\n",
    "* Create a function called `fill_missing_values_with_median` that takes a `pandas.DataFrame` as an argument and replaces missing values in each column with the median. Note that the operation can be don in-place, so your function should not return any objects. You may find the command `is_numeric_dtype` to be useful.\n",
    "* Check that missing values are filled in the transformed `pandas.DataFrame`.\n",
    "\n",
    "---"
   ]
  },
  {
   "cell_type": "code",
   "execution_count": null,
   "metadata": {},
   "outputs": [],
   "source": [
    "# delete!\n",
    "def fill_missing_values_with_median(df):\n",
    "    for column in df.columns:\n",
    "        if is_numeric_dtype(df[column]):\n",
    "            if pd.isnull(df[column]).sum():\n",
    "                column_median = df[column].median()\n",
    "                df[column].fillna(column_median, inplace=True)"
   ]
  },
  {
   "cell_type": "code",
   "execution_count": null,
   "metadata": {},
   "outputs": [
    {
     "data": {
      "text/plain": [
       "longitude                   0\n",
       "latitude                    0\n",
       "housing_median_age          0\n",
       "total_rooms                 0\n",
       "total_bedrooms              0\n",
       "population                  0\n",
       "households                  0\n",
       "median_income               0\n",
       "median_house_value          0\n",
       "ocean_proximity             0\n",
       "city                        0\n",
       "postal_code                 0\n",
       "rooms_per_household         0\n",
       "bedrooms_per_household      0\n",
       "bedrooms_per_room           0\n",
       "population_per_household    0\n",
       "dtype: int64"
      ]
     },
     "execution_count": null,
     "metadata": {},
     "output_type": "execute_result"
    }
   ],
   "source": [
    "fill_missing_values_with_median(housing_data)\n",
    "housing_data.isnull().sum()"
   ]
  },
  {
   "cell_type": "markdown",
   "metadata": {},
   "source": [
    "### Convert categories to numbers"
   ]
  },
  {
   "cell_type": "markdown",
   "metadata": {},
   "source": [
    "We've now reached the stage where we have a cleaned `pandas.DataFrame` and the final step is to convert our categorical columns to numerical form. For example, we can numericalise the `city` column by replacing the categories with their corresponding codes: "
   ]
  },
  {
   "cell_type": "code",
   "execution_count": null,
   "metadata": {},
   "outputs": [
    {
     "data": {
      "text/html": [
       "<div>\n",
       "<style scoped>\n",
       "    .dataframe tbody tr th:only-of-type {\n",
       "        vertical-align: middle;\n",
       "    }\n",
       "\n",
       "    .dataframe tbody tr th {\n",
       "        vertical-align: top;\n",
       "    }\n",
       "\n",
       "    .dataframe thead th {\n",
       "        text-align: right;\n",
       "    }\n",
       "</style>\n",
       "<table border=\"1\" class=\"dataframe\">\n",
       "  <thead>\n",
       "    <tr style=\"text-align: right;\">\n",
       "      <th></th>\n",
       "      <th>longitude</th>\n",
       "      <th>latitude</th>\n",
       "      <th>housing_median_age</th>\n",
       "      <th>total_rooms</th>\n",
       "      <th>total_bedrooms</th>\n",
       "      <th>population</th>\n",
       "      <th>households</th>\n",
       "      <th>median_income</th>\n",
       "      <th>median_house_value</th>\n",
       "      <th>ocean_proximity</th>\n",
       "      <th>city</th>\n",
       "      <th>postal_code</th>\n",
       "      <th>rooms_per_household</th>\n",
       "      <th>bedrooms_per_household</th>\n",
       "      <th>bedrooms_per_room</th>\n",
       "      <th>population_per_household</th>\n",
       "    </tr>\n",
       "  </thead>\n",
       "  <tbody>\n",
       "    <tr>\n",
       "      <th>0</th>\n",
       "      <td>-122.23</td>\n",
       "      <td>37.88</td>\n",
       "      <td>41.0</td>\n",
       "      <td>880.0</td>\n",
       "      <td>129.0</td>\n",
       "      <td>322.0</td>\n",
       "      <td>126.0</td>\n",
       "      <td>8.3252</td>\n",
       "      <td>452600.0</td>\n",
       "      <td>NEAR BAY</td>\n",
       "      <td>70</td>\n",
       "      <td>94705.0</td>\n",
       "      <td>6.984127</td>\n",
       "      <td>1.02381</td>\n",
       "      <td>0.146591</td>\n",
       "      <td>2.555556</td>\n",
       "    </tr>\n",
       "  </tbody>\n",
       "</table>\n",
       "</div>"
      ],
      "text/plain": [
       "   longitude  latitude  housing_median_age  total_rooms  total_bedrooms  \\\n",
       "0    -122.23     37.88                41.0        880.0           129.0   \n",
       "\n",
       "   population  households  median_income  median_house_value ocean_proximity  \\\n",
       "0       322.0       126.0         8.3252            452600.0        NEAR BAY   \n",
       "\n",
       "   city  postal_code  rooms_per_household  bedrooms_per_household  \\\n",
       "0    70      94705.0             6.984127                 1.02381   \n",
       "\n",
       "   bedrooms_per_room  population_per_household  \n",
       "0           0.146591                  2.555556  "
      ]
     },
     "execution_count": null,
     "metadata": {},
     "output_type": "execute_result"
    }
   ],
   "source": [
    "# add +1 so codes start from 1\n",
    "housing_data['city'] = housing_data['city'].cat.codes + 1\n",
    "# check output\n",
    "housing_data.head(1)"
   ]
  },
  {
   "cell_type": "markdown",
   "metadata": {},
   "source": [
    "One potential problem with the above representation is that machine learning algorithms will treat two cities that are numerically close to each other as being similar. Thus an alternative approach is to apply a technique known as _one-hot encoding_, where we create a binary feature per category. In pandas we can do this by simply running `pandas.get_dummies()`:"
   ]
  },
  {
   "cell_type": "code",
   "execution_count": null,
   "metadata": {},
   "outputs": [
    {
     "data": {
      "text/html": [
       "<div>\n",
       "<style scoped>\n",
       "    .dataframe tbody tr th:only-of-type {\n",
       "        vertical-align: middle;\n",
       "    }\n",
       "\n",
       "    .dataframe tbody tr th {\n",
       "        vertical-align: top;\n",
       "    }\n",
       "\n",
       "    .dataframe thead th {\n",
       "        text-align: right;\n",
       "    }\n",
       "</style>\n",
       "<table border=\"1\" class=\"dataframe\">\n",
       "  <thead>\n",
       "    <tr style=\"text-align: right;\">\n",
       "      <th></th>\n",
       "      <th>longitude</th>\n",
       "      <th>latitude</th>\n",
       "      <th>housing_median_age</th>\n",
       "      <th>total_rooms</th>\n",
       "      <th>total_bedrooms</th>\n",
       "      <th>population</th>\n",
       "      <th>households</th>\n",
       "      <th>median_income</th>\n",
       "      <th>median_house_value</th>\n",
       "      <th>city</th>\n",
       "      <th>postal_code</th>\n",
       "      <th>rooms_per_household</th>\n",
       "      <th>bedrooms_per_household</th>\n",
       "      <th>bedrooms_per_room</th>\n",
       "      <th>population_per_household</th>\n",
       "      <th>ocean_proximity_INLAND</th>\n",
       "      <th>ocean_proximity_&lt;1H OCEAN</th>\n",
       "      <th>ocean_proximity_NEAR BAY</th>\n",
       "      <th>ocean_proximity_NEAR OCEAN</th>\n",
       "      <th>ocean_proximity_ISLAND</th>\n",
       "    </tr>\n",
       "  </thead>\n",
       "  <tbody>\n",
       "    <tr>\n",
       "      <th>0</th>\n",
       "      <td>-122.23</td>\n",
       "      <td>37.88</td>\n",
       "      <td>41.0</td>\n",
       "      <td>880.0</td>\n",
       "      <td>129.0</td>\n",
       "      <td>322.0</td>\n",
       "      <td>126.0</td>\n",
       "      <td>8.3252</td>\n",
       "      <td>452600.0</td>\n",
       "      <td>70</td>\n",
       "      <td>94705.0</td>\n",
       "      <td>6.984127</td>\n",
       "      <td>1.023810</td>\n",
       "      <td>0.146591</td>\n",
       "      <td>2.555556</td>\n",
       "      <td>0</td>\n",
       "      <td>0</td>\n",
       "      <td>1</td>\n",
       "      <td>0</td>\n",
       "      <td>0</td>\n",
       "    </tr>\n",
       "    <tr>\n",
       "      <th>1</th>\n",
       "      <td>-122.22</td>\n",
       "      <td>37.86</td>\n",
       "      <td>21.0</td>\n",
       "      <td>7099.0</td>\n",
       "      <td>1106.0</td>\n",
       "      <td>2401.0</td>\n",
       "      <td>1138.0</td>\n",
       "      <td>8.3014</td>\n",
       "      <td>358500.0</td>\n",
       "      <td>626</td>\n",
       "      <td>94611.0</td>\n",
       "      <td>6.238137</td>\n",
       "      <td>0.971880</td>\n",
       "      <td>0.155797</td>\n",
       "      <td>2.109842</td>\n",
       "      <td>0</td>\n",
       "      <td>0</td>\n",
       "      <td>1</td>\n",
       "      <td>0</td>\n",
       "      <td>0</td>\n",
       "    </tr>\n",
       "    <tr>\n",
       "      <th>2</th>\n",
       "      <td>-122.24</td>\n",
       "      <td>37.85</td>\n",
       "      <td>52.0</td>\n",
       "      <td>1467.0</td>\n",
       "      <td>190.0</td>\n",
       "      <td>496.0</td>\n",
       "      <td>177.0</td>\n",
       "      <td>7.2574</td>\n",
       "      <td>352100.0</td>\n",
       "      <td>626</td>\n",
       "      <td>94618.0</td>\n",
       "      <td>8.288136</td>\n",
       "      <td>1.073446</td>\n",
       "      <td>0.129516</td>\n",
       "      <td>2.802260</td>\n",
       "      <td>0</td>\n",
       "      <td>0</td>\n",
       "      <td>1</td>\n",
       "      <td>0</td>\n",
       "      <td>0</td>\n",
       "    </tr>\n",
       "    <tr>\n",
       "      <th>3</th>\n",
       "      <td>-122.25</td>\n",
       "      <td>37.85</td>\n",
       "      <td>52.0</td>\n",
       "      <td>1274.0</td>\n",
       "      <td>235.0</td>\n",
       "      <td>558.0</td>\n",
       "      <td>219.0</td>\n",
       "      <td>5.6431</td>\n",
       "      <td>341300.0</td>\n",
       "      <td>626</td>\n",
       "      <td>94618.0</td>\n",
       "      <td>5.817352</td>\n",
       "      <td>1.073059</td>\n",
       "      <td>0.184458</td>\n",
       "      <td>2.547945</td>\n",
       "      <td>0</td>\n",
       "      <td>0</td>\n",
       "      <td>1</td>\n",
       "      <td>0</td>\n",
       "      <td>0</td>\n",
       "    </tr>\n",
       "    <tr>\n",
       "      <th>4</th>\n",
       "      <td>-122.25</td>\n",
       "      <td>37.85</td>\n",
       "      <td>52.0</td>\n",
       "      <td>1627.0</td>\n",
       "      <td>280.0</td>\n",
       "      <td>565.0</td>\n",
       "      <td>259.0</td>\n",
       "      <td>3.8462</td>\n",
       "      <td>342200.0</td>\n",
       "      <td>626</td>\n",
       "      <td>94618.0</td>\n",
       "      <td>6.281853</td>\n",
       "      <td>1.081081</td>\n",
       "      <td>0.172096</td>\n",
       "      <td>2.181467</td>\n",
       "      <td>0</td>\n",
       "      <td>0</td>\n",
       "      <td>1</td>\n",
       "      <td>0</td>\n",
       "      <td>0</td>\n",
       "    </tr>\n",
       "  </tbody>\n",
       "</table>\n",
       "</div>"
      ],
      "text/plain": [
       "   longitude  latitude  housing_median_age  total_rooms  total_bedrooms  \\\n",
       "0    -122.23     37.88                41.0        880.0           129.0   \n",
       "1    -122.22     37.86                21.0       7099.0          1106.0   \n",
       "2    -122.24     37.85                52.0       1467.0           190.0   \n",
       "3    -122.25     37.85                52.0       1274.0           235.0   \n",
       "4    -122.25     37.85                52.0       1627.0           280.0   \n",
       "\n",
       "   population  households  median_income  median_house_value  city  \\\n",
       "0       322.0       126.0         8.3252            452600.0    70   \n",
       "1      2401.0      1138.0         8.3014            358500.0   626   \n",
       "2       496.0       177.0         7.2574            352100.0   626   \n",
       "3       558.0       219.0         5.6431            341300.0   626   \n",
       "4       565.0       259.0         3.8462            342200.0   626   \n",
       "\n",
       "   postal_code  rooms_per_household  bedrooms_per_household  \\\n",
       "0      94705.0             6.984127                1.023810   \n",
       "1      94611.0             6.238137                0.971880   \n",
       "2      94618.0             8.288136                1.073446   \n",
       "3      94618.0             5.817352                1.073059   \n",
       "4      94618.0             6.281853                1.081081   \n",
       "\n",
       "   bedrooms_per_room  population_per_household  ocean_proximity_INLAND  \\\n",
       "0           0.146591                  2.555556                       0   \n",
       "1           0.155797                  2.109842                       0   \n",
       "2           0.129516                  2.802260                       0   \n",
       "3           0.184458                  2.547945                       0   \n",
       "4           0.172096                  2.181467                       0   \n",
       "\n",
       "   ocean_proximity_<1H OCEAN  ocean_proximity_NEAR BAY  \\\n",
       "0                          0                         1   \n",
       "1                          0                         1   \n",
       "2                          0                         1   \n",
       "3                          0                         1   \n",
       "4                          0                         1   \n",
       "\n",
       "   ocean_proximity_NEAR OCEAN  ocean_proximity_ISLAND  \n",
       "0                           0                       0  \n",
       "1                           0                       0  \n",
       "2                           0                       0  \n",
       "3                           0                       0  \n",
       "4                           0                       0  "
      ]
     },
     "execution_count": null,
     "metadata": {},
     "output_type": "execute_result"
    }
   ],
   "source": [
    "housing_data = pd.get_dummies(housing_data)\n",
    "housing_data.head()"
   ]
  },
  {
   "cell_type": "code",
   "execution_count": null,
   "metadata": {},
   "outputs": [
    {
     "name": "stdout",
     "output_type": "stream",
     "text": [
      "<class 'pandas.core.frame.DataFrame'>\n",
      "Int64Index: 20402 entries, 0 to 20639\n",
      "Data columns (total 20 columns):\n",
      " #   Column                      Non-Null Count  Dtype  \n",
      "---  ------                      --------------  -----  \n",
      " 0   longitude                   20402 non-null  float64\n",
      " 1   latitude                    20402 non-null  float64\n",
      " 2   housing_median_age          20402 non-null  float64\n",
      " 3   total_rooms                 20402 non-null  float64\n",
      " 4   total_bedrooms              20402 non-null  float64\n",
      " 5   population                  20402 non-null  float64\n",
      " 6   households                  20402 non-null  float64\n",
      " 7   median_income               20402 non-null  float64\n",
      " 8   median_house_value          20402 non-null  float64\n",
      " 9   city                        20402 non-null  int16  \n",
      " 10  postal_code                 20402 non-null  float64\n",
      " 11  rooms_per_household         20402 non-null  float64\n",
      " 12  bedrooms_per_household      20402 non-null  float64\n",
      " 13  bedrooms_per_room           20402 non-null  float64\n",
      " 14  population_per_household    20402 non-null  float64\n",
      " 15  ocean_proximity_INLAND      20402 non-null  uint8  \n",
      " 16  ocean_proximity_<1H OCEAN   20402 non-null  uint8  \n",
      " 17  ocean_proximity_NEAR BAY    20402 non-null  uint8  \n",
      " 18  ocean_proximity_NEAR OCEAN  20402 non-null  uint8  \n",
      " 19  ocean_proximity_ISLAND      20402 non-null  uint8  \n",
      "dtypes: float64(14), int16(1), uint8(5)\n",
      "memory usage: 2.5 MB\n"
     ]
    }
   ],
   "source": [
    "# sanity check\n",
    "housing_data.info()"
   ]
  },
  {
   "cell_type": "markdown",
   "metadata": {},
   "source": [
    "## Save processed data to disk"
   ]
  },
  {
   "cell_type": "code",
   "execution_count": null,
   "metadata": {},
   "outputs": [],
   "source": [
    "housing_data.to_csv(DATA/'housing_processed.csv', index=False)"
   ]
  },
  {
   "cell_type": "code",
   "execution_count": null,
   "metadata": {},
   "outputs": [],
   "source": []
  }
 ],
 "metadata": {
  "kernelspec": {
   "display_name": "Python 3",
   "language": "python",
   "name": "python3"
  }
 },
 "nbformat": 4,
 "nbformat_minor": 4
}

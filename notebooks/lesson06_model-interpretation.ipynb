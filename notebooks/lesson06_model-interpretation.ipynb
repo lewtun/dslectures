{
 "cells": [
  {
   "cell_type": "markdown",
   "metadata": {},
   "source": [
    "# Lesson 6 - Model interpretability\n",
    "\n",
    "> How to interpret the predictions from Random Forest models and use these insights to prune the feature space."
   ]
  },
  {
   "cell_type": "markdown",
   "metadata": {},
   "source": [
    "[![Binder](https://mybinder.org/badge_logo.svg)](https://mybinder.org/v2/gh/lewtun/dslectures/master?urlpath=lab/tree/notebooks%2Flesson06_model-interpretation.ipynb) \n",
    "[![slides](https://img.shields.io/static/v1?label=slides&message=lesson06_model-interpretation.pdf&color=blue&logo=Google-drive)](https://drive.google.com/open?id=15IIYC_MksmXI6VfSL3ee-rLm7TRF0v2U)"
   ]
  },
  {
   "cell_type": "markdown",
   "metadata": {},
   "source": [
    "## Learning objectives"
   ]
  },
  {
   "cell_type": "markdown",
   "metadata": {},
   "source": [
    "* Understand how to interpret feature importance plots for Random Forest models.\n",
    "* Know how to drop uninformative features to build simpler models"
   ]
  },
  {
   "cell_type": "markdown",
   "metadata": {},
   "source": [
    "## References"
   ]
  },
  {
   "cell_type": "markdown",
   "metadata": {},
   "source": [
    "This lesson is adapted (with permission) from Jeremy Howard's fantastic online course [_Introduction to Machine Learning for Coders_](https://course18.fast.ai/ml), in particular:\n",
    "\n",
    "* [3 — Performance, validation and model interpretation](https://course18.fast.ai/lessonsml1/lesson3.html)\n",
    "\n",
    "Below are a few relevant articles that may be of general interest:\n",
    "\n",
    "* [Explaining Feature Importance by example of a Random Forest](https://towardsdatascience.com/explaining-feature-importance-by-example-of-a-random-forest-d9166011959e)\n",
    "* [Beware Default Random Forest Importances](https://explained.ai/rf-importance/index.html)\n",
    "* [Explainable AI won’t deliver. Here’s why.](https://hackernoon.com/explainable-ai-wont-deliver-here-s-why-6738f54216be)\n",
    "* [Confidence Intervals](https://dfrieds.com/math/confidence-intervals.html)\n",
    "* [Reading and Writing Files in Python (Guide)](https://realpython.com/read-write-files-python/)"
   ]
  },
  {
   "cell_type": "markdown",
   "metadata": {},
   "source": [
    "## Homework\n",
    "\n",
    "* Solve the exercises included in this notebook"
   ]
  },
  {
   "cell_type": "markdown",
   "metadata": {},
   "source": [
    "## The data"
   ]
  },
  {
   "cell_type": "markdown",
   "metadata": {},
   "source": [
    "In this lesson we will analyse the preprocessed table of clean housing data and their addresses that we prepared in lesson 3:\n",
    "\n",
    "* `housing_processed.csv`"
   ]
  },
  {
   "cell_type": "markdown",
   "metadata": {},
   "source": [
    "## What is model interpretability?"
   ]
  },
  {
   "cell_type": "markdown",
   "metadata": {},
   "source": [
    "<div style=\"text-align: center\">\n",
    "<img src='images/interpretable.jpg' width='300'>\n",
    "    <p style=\"text-align: center;\"> <b>Figure reference:</b> https://bit.ly/3djjWc6 </p>\n",
    "</div>"
   ]
  },
  {
   "cell_type": "markdown",
   "metadata": {},
   "source": [
    "A nice explanation for what it means to interpret a model's predictions is given in the _Beware Default Random Forest Importances_ article:\n",
    "\n",
    "> Training a model that accurately predicts outcomes is great, but most of the time you don't just need predictions, you want to be able to interpret your model. For example, if you build a model of house prices, knowing which features are most predictive of price tells us which features people are willing to pay for.\n",
    "\n",
    "In this lesson we will focus on one specific aspect of interpretability for Random Forests, namely _feature importance_ which is a technique that (with care) can be used to identify the most informative features in a dataset."
   ]
  },
  {
   "cell_type": "markdown",
   "metadata": {},
   "source": [
    "## Import libraries"
   ]
  },
  {
   "cell_type": "code",
   "execution_count": null,
   "metadata": {},
   "outputs": [],
   "source": [
    "# reload modules before executing user code\n",
    "%load_ext autoreload\n",
    "# reload all modules every time before executing Python code\n",
    "%autoreload 2\n",
    "# render plots in notebook\n",
    "%matplotlib inline"
   ]
  },
  {
   "cell_type": "code",
   "execution_count": null,
   "metadata": {},
   "outputs": [],
   "source": [
    "# uncomment to update the library if working locally\n",
    "# !pip install dslectures --upgrade"
   ]
  },
  {
   "cell_type": "code",
   "execution_count": null,
   "metadata": {},
   "outputs": [],
   "source": [
    "# data wrangling\n",
    "import pandas as pd\n",
    "import numpy as np\n",
    "from dslectures.core import get_dataset, convert_strings_to_categories, rmse, fill_missing_values_with_median\n",
    "from pathlib import Path\n",
    "\n",
    "# data viz\n",
    "import matplotlib.pyplot as plt\n",
    "import seaborn as sns\n",
    "\n",
    "sns.set(color_codes=True)\n",
    "sns.set_palette(sns.color_palette(\"muted\"))\n",
    "\n",
    "# ml magic\n",
    "from sklearn.model_selection import train_test_split\n",
    "from sklearn.ensemble import RandomForestRegressor\n",
    "from sklearn.metrics import r2_score\n",
    "import scipy\n",
    "from scipy.cluster import hierarchy as hc"
   ]
  },
  {
   "cell_type": "markdown",
   "metadata": {},
   "source": [
    "## Load the data"
   ]
  },
  {
   "cell_type": "markdown",
   "metadata": {},
   "source": [
    "As usual we can download the dataset with our helper function:"
   ]
  },
  {
   "cell_type": "code",
   "execution_count": null,
   "metadata": {},
   "outputs": [
    {
     "name": "stdout",
     "output_type": "stream",
     "text": [
      "Download of housing_processed.csv dataset complete.\n"
     ]
    }
   ],
   "source": [
    "get_dataset('housing_processed.csv')"
   ]
  },
  {
   "cell_type": "markdown",
   "metadata": {},
   "source": [
    "We also make use of the `pathlib` library to handle our filepaths:"
   ]
  },
  {
   "cell_type": "code",
   "execution_count": null,
   "metadata": {},
   "outputs": [
    {
     "name": "stdout",
     "output_type": "stream",
     "text": [
      "housing.csv                  imdb.csv\n",
      "housing_addresses.csv        keep_cols.npy\n",
      "housing_columns_to_keep.npy  submission.csv\n",
      "housing_gmaps_data_raw.csv   test.csv\n",
      "housing_merged.csv           train.csv\n",
      "housing_model.pkl            uc\n",
      "housing_processed.csv        word2vec-google-news-300.pkl\n"
     ]
    }
   ],
   "source": [
    "DATA = Path('../data/')\n",
    "!ls {DATA}"
   ]
  },
  {
   "cell_type": "code",
   "execution_count": null,
   "metadata": {},
   "outputs": [
    {
     "data": {
      "text/html": [
       "<div>\n",
       "<style scoped>\n",
       "    .dataframe tbody tr th:only-of-type {\n",
       "        vertical-align: middle;\n",
       "    }\n",
       "\n",
       "    .dataframe tbody tr th {\n",
       "        vertical-align: top;\n",
       "    }\n",
       "\n",
       "    .dataframe thead th {\n",
       "        text-align: right;\n",
       "    }\n",
       "</style>\n",
       "<table border=\"1\" class=\"dataframe\">\n",
       "  <thead>\n",
       "    <tr style=\"text-align: right;\">\n",
       "      <th></th>\n",
       "      <th>longitude</th>\n",
       "      <th>latitude</th>\n",
       "      <th>housing_median_age</th>\n",
       "      <th>total_rooms</th>\n",
       "      <th>total_bedrooms</th>\n",
       "      <th>population</th>\n",
       "      <th>households</th>\n",
       "      <th>median_income</th>\n",
       "      <th>median_house_value</th>\n",
       "      <th>city</th>\n",
       "      <th>postal_code</th>\n",
       "      <th>rooms_per_household</th>\n",
       "      <th>bedrooms_per_household</th>\n",
       "      <th>bedrooms_per_room</th>\n",
       "      <th>population_per_household</th>\n",
       "      <th>ocean_proximity_INLAND</th>\n",
       "      <th>ocean_proximity_&lt;1H OCEAN</th>\n",
       "      <th>ocean_proximity_NEAR BAY</th>\n",
       "      <th>ocean_proximity_NEAR OCEAN</th>\n",
       "      <th>ocean_proximity_ISLAND</th>\n",
       "    </tr>\n",
       "  </thead>\n",
       "  <tbody>\n",
       "    <tr>\n",
       "      <th>0</th>\n",
       "      <td>-122.23</td>\n",
       "      <td>37.88</td>\n",
       "      <td>41.0</td>\n",
       "      <td>880.0</td>\n",
       "      <td>129.0</td>\n",
       "      <td>322.0</td>\n",
       "      <td>126.0</td>\n",
       "      <td>8.3252</td>\n",
       "      <td>452600.0</td>\n",
       "      <td>69</td>\n",
       "      <td>94705</td>\n",
       "      <td>6.984127</td>\n",
       "      <td>1.023810</td>\n",
       "      <td>0.146591</td>\n",
       "      <td>2.555556</td>\n",
       "      <td>0</td>\n",
       "      <td>0</td>\n",
       "      <td>1</td>\n",
       "      <td>0</td>\n",
       "      <td>0</td>\n",
       "    </tr>\n",
       "    <tr>\n",
       "      <th>1</th>\n",
       "      <td>-122.22</td>\n",
       "      <td>37.86</td>\n",
       "      <td>21.0</td>\n",
       "      <td>7099.0</td>\n",
       "      <td>1106.0</td>\n",
       "      <td>2401.0</td>\n",
       "      <td>1138.0</td>\n",
       "      <td>8.3014</td>\n",
       "      <td>358500.0</td>\n",
       "      <td>620</td>\n",
       "      <td>94611</td>\n",
       "      <td>6.238137</td>\n",
       "      <td>0.971880</td>\n",
       "      <td>0.155797</td>\n",
       "      <td>2.109842</td>\n",
       "      <td>0</td>\n",
       "      <td>0</td>\n",
       "      <td>1</td>\n",
       "      <td>0</td>\n",
       "      <td>0</td>\n",
       "    </tr>\n",
       "    <tr>\n",
       "      <th>2</th>\n",
       "      <td>-122.24</td>\n",
       "      <td>37.85</td>\n",
       "      <td>52.0</td>\n",
       "      <td>1467.0</td>\n",
       "      <td>190.0</td>\n",
       "      <td>496.0</td>\n",
       "      <td>177.0</td>\n",
       "      <td>7.2574</td>\n",
       "      <td>352100.0</td>\n",
       "      <td>620</td>\n",
       "      <td>94618</td>\n",
       "      <td>8.288136</td>\n",
       "      <td>1.073446</td>\n",
       "      <td>0.129516</td>\n",
       "      <td>2.802260</td>\n",
       "      <td>0</td>\n",
       "      <td>0</td>\n",
       "      <td>1</td>\n",
       "      <td>0</td>\n",
       "      <td>0</td>\n",
       "    </tr>\n",
       "    <tr>\n",
       "      <th>3</th>\n",
       "      <td>-122.25</td>\n",
       "      <td>37.85</td>\n",
       "      <td>52.0</td>\n",
       "      <td>1274.0</td>\n",
       "      <td>235.0</td>\n",
       "      <td>558.0</td>\n",
       "      <td>219.0</td>\n",
       "      <td>5.6431</td>\n",
       "      <td>341300.0</td>\n",
       "      <td>620</td>\n",
       "      <td>94618</td>\n",
       "      <td>5.817352</td>\n",
       "      <td>1.073059</td>\n",
       "      <td>0.184458</td>\n",
       "      <td>2.547945</td>\n",
       "      <td>0</td>\n",
       "      <td>0</td>\n",
       "      <td>1</td>\n",
       "      <td>0</td>\n",
       "      <td>0</td>\n",
       "    </tr>\n",
       "    <tr>\n",
       "      <th>4</th>\n",
       "      <td>-122.25</td>\n",
       "      <td>37.85</td>\n",
       "      <td>52.0</td>\n",
       "      <td>1627.0</td>\n",
       "      <td>280.0</td>\n",
       "      <td>565.0</td>\n",
       "      <td>259.0</td>\n",
       "      <td>3.8462</td>\n",
       "      <td>342200.0</td>\n",
       "      <td>620</td>\n",
       "      <td>94618</td>\n",
       "      <td>6.281853</td>\n",
       "      <td>1.081081</td>\n",
       "      <td>0.172096</td>\n",
       "      <td>2.181467</td>\n",
       "      <td>0</td>\n",
       "      <td>0</td>\n",
       "      <td>1</td>\n",
       "      <td>0</td>\n",
       "      <td>0</td>\n",
       "    </tr>\n",
       "  </tbody>\n",
       "</table>\n",
       "</div>"
      ],
      "text/plain": [
       "   longitude  latitude  housing_median_age  total_rooms  total_bedrooms  \\\n",
       "0    -122.23     37.88                41.0        880.0           129.0   \n",
       "1    -122.22     37.86                21.0       7099.0          1106.0   \n",
       "2    -122.24     37.85                52.0       1467.0           190.0   \n",
       "3    -122.25     37.85                52.0       1274.0           235.0   \n",
       "4    -122.25     37.85                52.0       1627.0           280.0   \n",
       "\n",
       "   population  households  median_income  median_house_value  city  \\\n",
       "0       322.0       126.0         8.3252            452600.0    69   \n",
       "1      2401.0      1138.0         8.3014            358500.0   620   \n",
       "2       496.0       177.0         7.2574            352100.0   620   \n",
       "3       558.0       219.0         5.6431            341300.0   620   \n",
       "4       565.0       259.0         3.8462            342200.0   620   \n",
       "\n",
       "   postal_code  rooms_per_household  bedrooms_per_household  \\\n",
       "0        94705             6.984127                1.023810   \n",
       "1        94611             6.238137                0.971880   \n",
       "2        94618             8.288136                1.073446   \n",
       "3        94618             5.817352                1.073059   \n",
       "4        94618             6.281853                1.081081   \n",
       "\n",
       "   bedrooms_per_room  population_per_household  ocean_proximity_INLAND  \\\n",
       "0           0.146591                  2.555556                       0   \n",
       "1           0.155797                  2.109842                       0   \n",
       "2           0.129516                  2.802260                       0   \n",
       "3           0.184458                  2.547945                       0   \n",
       "4           0.172096                  2.181467                       0   \n",
       "\n",
       "   ocean_proximity_<1H OCEAN  ocean_proximity_NEAR BAY  \\\n",
       "0                          0                         1   \n",
       "1                          0                         1   \n",
       "2                          0                         1   \n",
       "3                          0                         1   \n",
       "4                          0                         1   \n",
       "\n",
       "   ocean_proximity_NEAR OCEAN  ocean_proximity_ISLAND  \n",
       "0                           0                       0  \n",
       "1                           0                       0  \n",
       "2                           0                       0  \n",
       "3                           0                       0  \n",
       "4                           0                       0  "
      ]
     },
     "execution_count": null,
     "metadata": {},
     "output_type": "execute_result"
    }
   ],
   "source": [
    "housing_data = pd.read_csv(DATA/'housing_processed.csv'); housing_data.head()"
   ]
  },
  {
   "cell_type": "markdown",
   "metadata": {},
   "source": [
    "With the data loaded, we can recreate our train/validation splits as before:"
   ]
  },
  {
   "cell_type": "code",
   "execution_count": null,
   "metadata": {},
   "outputs": [],
   "source": [
    "X = housing_data.drop('median_house_value', axis=1)\n",
    "y = housing_data['median_house_value']"
   ]
  },
  {
   "cell_type": "code",
   "execution_count": null,
   "metadata": {},
   "outputs": [
    {
     "name": "stdout",
     "output_type": "stream",
     "text": [
      "15554 train rows + 3889 valid rows\n"
     ]
    }
   ],
   "source": [
    "X_train, X_valid, y_train, y_valid = train_test_split(X, y, test_size=0.2, random_state=42)\n",
    "print(f'{len(X_train)} train rows + {len(X_valid)} valid rows')"
   ]
  },
  {
   "cell_type": "markdown",
   "metadata": {},
   "source": [
    "To simplify the evaluation of our models, we'll reuse our scoring function from lesson 5:"
   ]
  },
  {
   "cell_type": "code",
   "execution_count": null,
   "metadata": {},
   "outputs": [],
   "source": [
    "def print_rf_scores(fitted_model):\n",
    "    \"\"\"Generates RMSE and R^2 scores from fitted Random Forest model.\"\"\"\n",
    "\n",
    "    yhat_train = fitted_model.predict(X_train)\n",
    "    R2_train = fitted_model.score(X_train, y_train)\n",
    "    yhat_valid = fitted_model.predict(X_valid)\n",
    "    R2_valid = fitted_model.score(X_valid, y_valid)\n",
    "\n",
    "    scores = {\n",
    "        \"RMSE on train:\": rmse(y_train, yhat_train),\n",
    "        \"R^2 on train:\": R2_train,\n",
    "        \"RMSE on valid:\": rmse(y_valid, yhat_valid),\n",
    "        \"R^2 on valid:\": R2_valid,\n",
    "    }\n",
    "    if hasattr(fitted_model, \"oob_score_\"):\n",
    "        scores[\"OOB R^2:\"] = fitted_model.oob_score_\n",
    "\n",
    "    for score_name, score_value in scores.items():\n",
    "        print(score_name, round(score_value, 3))"
   ]
  },
  {
   "cell_type": "markdown",
   "metadata": {},
   "source": [
    "## Confidence intervals"
   ]
  },
  {
   "cell_type": "markdown",
   "metadata": {},
   "source": [
    "Recall that to make predictions with our Random Forest models, we take the _average value_ in each leaf node as we pass each row in the validation set through the tree. However, we would also like to estimate our _**confidence**_ in these predictions - how can we achieve this?\n",
    "\n",
    "One way to do this is to calculate the _**standard deviation of the predictions**_ of the trees. Conceptually, the idea is that if the standard deviation is high, each tree is generating very different predictions and may indicate the model has not learnt the most important features of the data.\n",
    "\n",
    "To get started, let's use our baseline model from the previous lesson:"
   ]
  },
  {
   "cell_type": "code",
   "execution_count": null,
   "metadata": {},
   "outputs": [
    {
     "name": "stdout",
     "output_type": "stream",
     "text": [
      "RMSE on train: 16520.37\n",
      "R^2 on train: 0.971\n",
      "RMSE on valid: 42727.043\n",
      "R^2 on valid: 0.81\n",
      "OOB R^2: 0.791\n"
     ]
    }
   ],
   "source": [
    "model = RandomForestRegressor(n_estimators=40, max_features='sqrt', n_jobs=-1, oob_score=True, random_state=42)\n",
    "model.fit(X_train, y_train)\n",
    "print_rf_scores(model)"
   ]
  },
  {
   "cell_type": "markdown",
   "metadata": {},
   "source": [
    "As before, we concatenate all the predictions from each tree into a single array:"
   ]
  },
  {
   "cell_type": "code",
   "execution_count": null,
   "metadata": {},
   "outputs": [
    {
     "data": {
      "text/plain": [
       "(137125.0, 41845.23120978064)"
      ]
     },
     "execution_count": null,
     "metadata": {},
     "output_type": "execute_result"
    }
   ],
   "source": [
    "preds = np.stack([t.predict(X_valid) for t in model.estimators_])\n",
    "# calculate mean and standard deviation for single observation\n",
    "np.mean(preds[:,0]), np.std(preds[:,0])"
   ]
  },
  {
   "cell_type": "code",
   "execution_count": null,
   "metadata": {},
   "outputs": [
    {
     "data": {
      "text/plain": [
       "(40, 3889)"
      ]
     },
     "execution_count": null,
     "metadata": {},
     "output_type": "execute_result"
    }
   ],
   "source": [
    "preds.shape"
   ]
  },
  {
   "cell_type": "markdown",
   "metadata": {},
   "source": [
    "Next, let's create a copy of the validation dataset and add the mean predictions and their standard deviation as new columns."
   ]
  },
  {
   "cell_type": "markdown",
   "metadata": {},
   "source": [
    "---\n",
    "\n",
    "#### Exercise #1\n",
    "\n",
    "* Combine `X_valid` and `y_valid` into a single array called `valid_copy`. You may find the `DataFrame.join(DataFrame)` method from pandas useful here.\n",
    "* Create two new columns `preds_mean` and `preds_std` that are the mean and standard deviation of the predictions for each tree in `preds`\n",
    "\n",
    "---"
   ]
  },
  {
   "cell_type": "markdown",
   "metadata": {},
   "source": [
    "We can use these new columns to drill-down into the predictions of each individual, categorical feature. Let's examine `ocean_proximity_INLAND` which denotes whether a housing district is inland or not:"
   ]
  },
  {
   "cell_type": "code",
   "execution_count": null,
   "metadata": {},
   "outputs": [
    {
     "data": {
      "image/png": "[encoded data removed]",
      "text/plain": [
       "<Figure size 432x288 with 1 Axes>"
      ]
     },
     "metadata": {},
     "output_type": "display_data"
    }
   ],
   "source": [
    "sns.countplot(y='ocean_proximity_INLAND', data=valid_copy);"
   ]
  },
  {
   "cell_type": "markdown",
   "metadata": {},
   "source": [
    "We can calculate the predictions and standard deviation per category by applying a _**group by**_ operation in pandas, followed by taking the mean."
   ]
  },
  {
   "cell_type": "code",
   "execution_count": null,
   "metadata": {},
   "outputs": [
    {
     "data": {
      "text/html": [
       "<div>\n",
       "<style scoped>\n",
       "    .dataframe tbody tr th:only-of-type {\n",
       "        vertical-align: middle;\n",
       "    }\n",
       "\n",
       "    .dataframe tbody tr th {\n",
       "        vertical-align: top;\n",
       "    }\n",
       "\n",
       "    .dataframe thead th {\n",
       "        text-align: right;\n",
       "    }\n",
       "</style>\n",
       "<table border=\"1\" class=\"dataframe\">\n",
       "  <thead>\n",
       "    <tr style=\"text-align: right;\">\n",
       "      <th></th>\n",
       "      <th>ocean_proximity_INLAND</th>\n",
       "      <th>median_house_value</th>\n",
       "      <th>preds_mean</th>\n",
       "      <th>preds_std</th>\n",
       "    </tr>\n",
       "  </thead>\n",
       "  <tbody>\n",
       "    <tr>\n",
       "      <th>0</th>\n",
       "      <td>0</td>\n",
       "      <td>227863.194178</td>\n",
       "      <td>227319.699349</td>\n",
       "      <td>51913.127856</td>\n",
       "    </tr>\n",
       "    <tr>\n",
       "      <th>1</th>\n",
       "      <td>1</td>\n",
       "      <td>123654.224570</td>\n",
       "      <td>124241.488165</td>\n",
       "      <td>35858.872619</td>\n",
       "    </tr>\n",
       "  </tbody>\n",
       "</table>\n",
       "</div>"
      ],
      "text/plain": [
       "   ocean_proximity_INLAND  median_house_value     preds_mean     preds_std\n",
       "0                       0       227863.194178  227319.699349  51913.127856\n",
       "1                       1       123654.224570  124241.488165  35858.872619"
      ]
     },
     "execution_count": null,
     "metadata": {},
     "output_type": "execute_result"
    }
   ],
   "source": [
    "cols = ['ocean_proximity_INLAND', 'median_house_value', 'preds_mean', 'preds_std']\n",
    "preds_quality = valid_copy[cols].groupby('ocean_proximity_INLAND', as_index=False).mean()\n",
    "preds_quality"
   ]
  },
  {
   "cell_type": "markdown",
   "metadata": {},
   "source": [
    "From the table, we can see that the predictions and ground truth are close to each other on average, while the standard deviation varies somewhat for each category. We can visualise this table in terms of bar plots as follows:"
   ]
  },
  {
   "cell_type": "code",
   "execution_count": null,
   "metadata": {},
   "outputs": [
    {
     "data": {
      "image/png": "[encoded data removed]",
      "text/plain": [
       "<Figure size 864x504 with 2 Axes>"
      ]
     },
     "metadata": {},
     "output_type": "display_data"
    }
   ],
   "source": [
    "# prepare figure \n",
    "fig, (ax0, ax1) = plt.subplots(nrows=2, ncols=1, figsize=(12,7), sharex=True)\n",
    "\n",
    "# plot ground truth\n",
    "preds_quality.plot('ocean_proximity_INLAND', 'median_house_value', 'barh', ax=ax0)\n",
    "# put legend outside plot\n",
    "ax0.legend(loc='upper left', bbox_to_anchor=(1.0, 0.5))\n",
    "\n",
    "# plot preds\n",
    "preds_quality.plot('ocean_proximity_INLAND', 'preds_mean', 'barh', xerr='preds_std', alpha=0.6, ax=ax1)\n",
    "# put legend outside plot\n",
    "ax1.legend(loc='upper left', bbox_to_anchor=(1.0, 0.5))\n",
    "\n",
    "plt.show()"
   ]
  },
  {
   "cell_type": "markdown",
   "metadata": {},
   "source": [
    "The error bars in the plot indicate how confident the model is at predicting each category.  Alternatively, we can compare the _distribution_ of values to inspect how close the predictions match the ground truth. For example, for housing districts where `ocean_proximity_INLAND` is 0 we have:"
   ]
  },
  {
   "cell_type": "code",
   "execution_count": null,
   "metadata": {},
   "outputs": [
    {
     "data": {
      "image/png": "[encoded data removed]",
      "text/plain": [
       "<Figure size 432x288 with 1 Axes>"
      ]
     },
     "metadata": {},
     "output_type": "display_data"
    }
   ],
   "source": [
    "sample = valid_copy.copy().loc[valid_copy[\"ocean_proximity_INLAND\"] == 0]\n",
    "sample_mean = sample['preds_mean'].mean()\n",
    "sample_std = sample['preds_std'].std()\n",
    "lower_bound = sample_mean - sample_std\n",
    "upper_bound = sample_mean + sample_std\n",
    "\n",
    "sns.distplot(\n",
    "    sample[\"median_house_value\"], kde=False,\n",
    ")\n",
    "sns.distplot(sample[\"preds_mean\"], kde=False)\n",
    "plt.axvline(\n",
    "    x=sample_mean,\n",
    "    linestyle=\"--\",\n",
    "    linewidth=2.5,\n",
    "    label=\"Mean of predictions\",\n",
    "    c=\"k\",\n",
    ")\n",
    "plt.axvline(\n",
    "    x=lower_bound,\n",
    "    linestyle=\"--\",\n",
    "    linewidth=2.5,\n",
    "    label=\"Lower bound 68% CI\",\n",
    "    c=\"g\",\n",
    ")\n",
    "plt.axvline(\n",
    "    x=upper_bound,\n",
    "    linestyle=\"--\",\n",
    "    linewidth=2.5,\n",
    "    label=\"Upper bound 68% CI\",\n",
    "    c=\"purple\",\n",
    ")\n",
    "plt.legend(bbox_to_anchor=(1.01, 1), loc=\"upper left\");"
   ]
  },
  {
   "cell_type": "markdown",
   "metadata": {},
   "source": [
    "In general, we expect our models to perform best on categories that are most frequent in the data. One way to validate this hypothesis is by calculating the ratio of the standard deviation of the predictions to the predictions themselves:"
   ]
  },
  {
   "cell_type": "code",
   "execution_count": null,
   "metadata": {},
   "outputs": [
    {
     "data": {
      "text/plain": [
       "ocean_proximity_INLAND\n",
       "1    0.288622\n",
       "0    0.228371\n",
       "dtype: float64"
      ]
     },
     "execution_count": null,
     "metadata": {},
     "output_type": "execute_result"
    }
   ],
   "source": [
    "preds_quality = valid_copy[cols].groupby(\"ocean_proximity_INLAND\", as_index=True).mean()\n",
    "(preds_quality[\"preds_std\"] / preds_quality[\"preds_mean\"]).sort_values(ascending=False)"
   ]
  },
  {
   "cell_type": "markdown",
   "metadata": {},
   "source": [
    "What the above tells us is that our predictions are less confident (i.e. higher variance) for housing districts that are inland - indeed looking at our bar plot we see these categories are under-represented in the data!\n",
    "\n",
    "In general, confidence intervals serve two main purposes:\n",
    "\n",
    "* We can identify which categories the model is less confident about and investigate further\n",
    "* We can identify which rows in the data the model is not confident about. This is particularly important when deploying models to production, where e.g. we need to decide how to evaluate the model's predictions for a _single_ housing district."
   ]
  },
  {
   "cell_type": "markdown",
   "metadata": {},
   "source": [
    "## Feature importance"
   ]
  },
  {
   "cell_type": "markdown",
   "metadata": {},
   "source": [
    "One drawback with the confidence interval analysis is that we need to drill-down into each feature to see where the model is making mistakes. In practice, we can get a global view by ranking each feature in terms of its importance to the model's predictions. In scikit-learn, the Random Forest model has an attribute called `feature_importances_` that we can use to rank each feature:"
   ]
  },
  {
   "cell_type": "code",
   "execution_count": null,
   "metadata": {},
   "outputs": [],
   "source": [
    "def rf_feature_importance(fitted_model, df):\n",
    "    return pd.DataFrame(\n",
    "        {\"Column\": df.columns, \"Importance\": fitted_model.feature_importances_}\n",
    "    ).sort_values(\"Importance\", ascending=False)"
   ]
  },
  {
   "cell_type": "markdown",
   "metadata": {},
   "source": [
    "Let's use this function to calculate the feature importance for our fitted model:"
   ]
  },
  {
   "cell_type": "code",
   "execution_count": null,
   "metadata": {},
   "outputs": [
    {
     "data": {
      "text/html": [
       "<div>\n",
       "<style scoped>\n",
       "    .dataframe tbody tr th:only-of-type {\n",
       "        vertical-align: middle;\n",
       "    }\n",
       "\n",
       "    .dataframe tbody tr th {\n",
       "        vertical-align: top;\n",
       "    }\n",
       "\n",
       "    .dataframe thead th {\n",
       "        text-align: right;\n",
       "    }\n",
       "</style>\n",
       "<table border=\"1\" class=\"dataframe\">\n",
       "  <thead>\n",
       "    <tr style=\"text-align: right;\">\n",
       "      <th></th>\n",
       "      <th>Column</th>\n",
       "      <th>Importance</th>\n",
       "    </tr>\n",
       "  </thead>\n",
       "  <tbody>\n",
       "    <tr>\n",
       "      <th>7</th>\n",
       "      <td>median_income</td>\n",
       "      <td>0.248165</td>\n",
       "    </tr>\n",
       "    <tr>\n",
       "      <th>14</th>\n",
       "      <td>ocean_proximity_INLAND</td>\n",
       "      <td>0.135266</td>\n",
       "    </tr>\n",
       "    <tr>\n",
       "      <th>13</th>\n",
       "      <td>population_per_household</td>\n",
       "      <td>0.088856</td>\n",
       "    </tr>\n",
       "    <tr>\n",
       "      <th>9</th>\n",
       "      <td>postal_code</td>\n",
       "      <td>0.088172</td>\n",
       "    </tr>\n",
       "    <tr>\n",
       "      <th>0</th>\n",
       "      <td>longitude</td>\n",
       "      <td>0.080466</td>\n",
       "    </tr>\n",
       "    <tr>\n",
       "      <th>12</th>\n",
       "      <td>bedrooms_per_room</td>\n",
       "      <td>0.070059</td>\n",
       "    </tr>\n",
       "    <tr>\n",
       "      <th>1</th>\n",
       "      <td>latitude</td>\n",
       "      <td>0.066439</td>\n",
       "    </tr>\n",
       "    <tr>\n",
       "      <th>10</th>\n",
       "      <td>rooms_per_household</td>\n",
       "      <td>0.048305</td>\n",
       "    </tr>\n",
       "    <tr>\n",
       "      <th>2</th>\n",
       "      <td>housing_median_age</td>\n",
       "      <td>0.030146</td>\n",
       "    </tr>\n",
       "    <tr>\n",
       "      <th>8</th>\n",
       "      <td>city</td>\n",
       "      <td>0.022991</td>\n",
       "    </tr>\n",
       "  </tbody>\n",
       "</table>\n",
       "</div>"
      ],
      "text/plain": [
       "                      Column  Importance\n",
       "7              median_income    0.248165\n",
       "14    ocean_proximity_INLAND    0.135266\n",
       "13  population_per_household    0.088856\n",
       "9                postal_code    0.088172\n",
       "0                  longitude    0.080466\n",
       "12         bedrooms_per_room    0.070059\n",
       "1                   latitude    0.066439\n",
       "10       rooms_per_household    0.048305\n",
       "2         housing_median_age    0.030146\n",
       "8                       city    0.022991"
      ]
     },
     "execution_count": null,
     "metadata": {},
     "output_type": "execute_result"
    }
   ],
   "source": [
    "# expected shape - (n_features, 2)\n",
    "feature_importance = rf_feature_importance(model, X)\n",
    "\n",
    "# peek at top 10 features\n",
    "feature_importance[:10]"
   ]
  },
  {
   "cell_type": "markdown",
   "metadata": {},
   "source": [
    "From the table we see that `median_income`, `ocean_proximity_INLAND`, and `population_per_household` are the most important features - this is not entirely surprising since income and house location seem to be good indicators of house value. We can also plot the feature importance to gain a visual understanding:"
   ]
  },
  {
   "cell_type": "code",
   "execution_count": null,
   "metadata": {},
   "outputs": [],
   "source": [
    "def plot_feature_importance(feature_importance):\n",
    "    return sns.barplot(y=\"Column\", x=\"Importance\", data=feature_importance, color='b')"
   ]
  },
  {
   "cell_type": "code",
   "execution_count": null,
   "metadata": {},
   "outputs": [
    {
     "data": {
      "image/png": "[encoded data removed]",
      "text/plain": [
       "<Figure size 432x288 with 1 Axes>"
      ]
     },
     "metadata": {},
     "output_type": "display_data"
    }
   ],
   "source": [
    "plot_feature_importance(feature_importance);"
   ]
  },
  {
   "cell_type": "markdown",
   "metadata": {},
   "source": [
    "In nearly every real-world dataset, this is what the feature importance looks like: a handful of columns are very important, while most are not. The powerful aspect of this approach is that is _focuses our attention_ on which features we should investigate further and which ones we can safely ignore."
   ]
  },
  {
   "cell_type": "markdown",
   "metadata": {},
   "source": [
    "> Warning: The feature importance analysis above can be biased and has a tendency to inflate the importance of continuous features or  categorical features with high cardinality (i.e. many unique categories). See the Beware Default Random Forest Importances article in the references for more information."
   ]
  },
  {
   "cell_type": "markdown",
   "metadata": {},
   "source": [
    "## Drop uninformative features"
   ]
  },
  {
   "cell_type": "markdown",
   "metadata": {},
   "source": [
    "From the feature importance plot above, we can see there are only a handful of informative features - let's use this insight to make a simpler model by dropping uninformative columns from our data:"
   ]
  },
  {
   "cell_type": "code",
   "execution_count": null,
   "metadata": {},
   "outputs": [
    {
     "data": {
      "text/plain": [
       "9"
      ]
     },
     "execution_count": null,
     "metadata": {},
     "output_type": "execute_result"
    }
   ],
   "source": [
    "feature_importance_threshold = 0.03\n",
    "cols_to_keep = feature_importance[\n",
    "    feature_importance['Importance'] > feature_importance_threshold\n",
    "]['Column']\n",
    "\n",
    "len(cols_to_keep)"
   ]
  },
  {
   "cell_type": "code",
   "execution_count": null,
   "metadata": {},
   "outputs": [],
   "source": [
    "# create a copy of the data with selected columns and create new train / test set\n",
    "X_keep = X.copy()[cols_to_keep]\n",
    "X_train, X_valid = train_test_split(X_keep, test_size=0.2, random_state=42)"
   ]
  },
  {
   "cell_type": "code",
   "execution_count": null,
   "metadata": {},
   "outputs": [
    {
     "data": {
      "text/html": [
       "<div>\n",
       "<style scoped>\n",
       "    .dataframe tbody tr th:only-of-type {\n",
       "        vertical-align: middle;\n",
       "    }\n",
       "\n",
       "    .dataframe tbody tr th {\n",
       "        vertical-align: top;\n",
       "    }\n",
       "\n",
       "    .dataframe thead th {\n",
       "        text-align: right;\n",
       "    }\n",
       "</style>\n",
       "<table border=\"1\" class=\"dataframe\">\n",
       "  <thead>\n",
       "    <tr style=\"text-align: right;\">\n",
       "      <th></th>\n",
       "      <th>median_income</th>\n",
       "      <th>ocean_proximity_INLAND</th>\n",
       "      <th>population_per_household</th>\n",
       "      <th>postal_code</th>\n",
       "      <th>longitude</th>\n",
       "      <th>bedrooms_per_room</th>\n",
       "      <th>latitude</th>\n",
       "      <th>rooms_per_household</th>\n",
       "      <th>housing_median_age</th>\n",
       "    </tr>\n",
       "  </thead>\n",
       "  <tbody>\n",
       "    <tr>\n",
       "      <th>0</th>\n",
       "      <td>8.3252</td>\n",
       "      <td>0</td>\n",
       "      <td>2.555556</td>\n",
       "      <td>94705</td>\n",
       "      <td>-122.23</td>\n",
       "      <td>0.146591</td>\n",
       "      <td>37.88</td>\n",
       "      <td>6.984127</td>\n",
       "      <td>41.0</td>\n",
       "    </tr>\n",
       "    <tr>\n",
       "      <th>1</th>\n",
       "      <td>8.3014</td>\n",
       "      <td>0</td>\n",
       "      <td>2.109842</td>\n",
       "      <td>94611</td>\n",
       "      <td>-122.22</td>\n",
       "      <td>0.155797</td>\n",
       "      <td>37.86</td>\n",
       "      <td>6.238137</td>\n",
       "      <td>21.0</td>\n",
       "    </tr>\n",
       "    <tr>\n",
       "      <th>2</th>\n",
       "      <td>7.2574</td>\n",
       "      <td>0</td>\n",
       "      <td>2.802260</td>\n",
       "      <td>94618</td>\n",
       "      <td>-122.24</td>\n",
       "      <td>0.129516</td>\n",
       "      <td>37.85</td>\n",
       "      <td>8.288136</td>\n",
       "      <td>52.0</td>\n",
       "    </tr>\n",
       "    <tr>\n",
       "      <th>3</th>\n",
       "      <td>5.6431</td>\n",
       "      <td>0</td>\n",
       "      <td>2.547945</td>\n",
       "      <td>94618</td>\n",
       "      <td>-122.25</td>\n",
       "      <td>0.184458</td>\n",
       "      <td>37.85</td>\n",
       "      <td>5.817352</td>\n",
       "      <td>52.0</td>\n",
       "    </tr>\n",
       "    <tr>\n",
       "      <th>4</th>\n",
       "      <td>3.8462</td>\n",
       "      <td>0</td>\n",
       "      <td>2.181467</td>\n",
       "      <td>94618</td>\n",
       "      <td>-122.25</td>\n",
       "      <td>0.172096</td>\n",
       "      <td>37.85</td>\n",
       "      <td>6.281853</td>\n",
       "      <td>52.0</td>\n",
       "    </tr>\n",
       "  </tbody>\n",
       "</table>\n",
       "</div>"
      ],
      "text/plain": [
       "   median_income  ocean_proximity_INLAND  population_per_household  \\\n",
       "0         8.3252                       0                  2.555556   \n",
       "1         8.3014                       0                  2.109842   \n",
       "2         7.2574                       0                  2.802260   \n",
       "3         5.6431                       0                  2.547945   \n",
       "4         3.8462                       0                  2.181467   \n",
       "\n",
       "   postal_code  longitude  bedrooms_per_room  latitude  rooms_per_household  \\\n",
       "0        94705    -122.23           0.146591     37.88             6.984127   \n",
       "1        94611    -122.22           0.155797     37.86             6.238137   \n",
       "2        94618    -122.24           0.129516     37.85             8.288136   \n",
       "3        94618    -122.25           0.184458     37.85             5.817352   \n",
       "4        94618    -122.25           0.172096     37.85             6.281853   \n",
       "\n",
       "   housing_median_age  \n",
       "0                41.0  \n",
       "1                21.0  \n",
       "2                52.0  \n",
       "3                52.0  \n",
       "4                52.0  "
      ]
     },
     "execution_count": null,
     "metadata": {},
     "output_type": "execute_result"
    }
   ],
   "source": [
    "X_keep.head()"
   ]
  },
  {
   "cell_type": "markdown",
   "metadata": {},
   "source": [
    "As a sanity check, let's ensure the model's prediction have not gotten worse with the reduced data (recall we had $R^2 = 0.91$ on the validation set):"
   ]
  },
  {
   "cell_type": "code",
   "execution_count": null,
   "metadata": {},
   "outputs": [
    {
     "name": "stdout",
     "output_type": "stream",
     "text": [
      "RMSE on train: 16622.874\n",
      "R^2 on train: 0.97\n",
      "RMSE on valid: 43873.09\n",
      "R^2 on valid: 0.8\n",
      "OOB R^2: 0.789\n"
     ]
    }
   ],
   "source": [
    "model = RandomForestRegressor(\n",
    "    n_estimators=40, min_samples_leaf=1, n_jobs=-1, oob_score=True, random_state=42\n",
    ")\n",
    "model.fit(X_train, y_train)\n",
    "print_rf_scores(model)"
   ]
  },
  {
   "cell_type": "code",
   "execution_count": null,
   "metadata": {},
   "outputs": [
    {
     "data": {
      "image/png": "[encoded data removed]",
      "text/plain": [
       "<Figure size 432x288 with 1 Axes>"
      ]
     },
     "metadata": {},
     "output_type": "display_data"
    }
   ],
   "source": [
    "feature_importance = rf_feature_importance(model, X_keep)\n",
    "plot_feature_importance(feature_importance);"
   ]
  },
  {
   "cell_type": "markdown",
   "metadata": {},
   "source": [
    "We've now got a model that isn't really more predictive than our baseline, but it's much simpler - it has just 9 features instead of 19 and we now know that `median_income` and `ocean_proximity_INLAND` are particularly important features to focus on."
   ]
  },
  {
   "cell_type": "markdown",
   "metadata": {},
   "source": [
    "---\n",
    "\n",
    "#### Exercise #2\n",
    "\n",
    "Go through the top 3 features and use plots with `seaborn` to gain insights into things like the following:\n",
    "\n",
    "* What is the relationship between each feature and the target `median_house_value`?\n",
    "* What do the distribution / bar plots look like for continuous / categorical columns?\n",
    "\n",
    "---"
   ]
  },
  {
   "cell_type": "markdown",
   "metadata": {},
   "source": [
    "## Removing redundant features"
   ]
  },
  {
   "cell_type": "markdown",
   "metadata": {},
   "source": [
    "Looking at our feature importance plots, we can see that there are some features that seem to be related to each other (e.g. the square footage features like `rooms_per_household` and `bedrooms_per_room`). Features like this are potentially measuring the same thing, so we can use a special technique called _**hierarchical clustering**_ to produce something called a _**dendogram**_ that will tell us which pairs of features are similar:"
   ]
  },
  {
   "cell_type": "code",
   "execution_count": null,
   "metadata": {},
   "outputs": [],
   "source": [
    "def plot_dendogram(X):\n",
    "    \"\"\"Plots a dendogram to see which features are related.\"\"\"\n",
    "    # calculate correlation coefficient\n",
    "    corr = np.round(scipy.stats.spearmanr(X).correlation, 4)\n",
    "    # convert to distance matrix\n",
    "    corr_condensed = hc.distance.squareform(1 - corr)\n",
    "    # perform clustering\n",
    "    z = hc.linkage(corr_condensed, method=\"average\")\n",
    "    # plot dendogram\n",
    "    fig = plt.figure(figsize=(16, 10))\n",
    "    dendrogram = hc.dendrogram(\n",
    "        z, labels=X.columns, orientation=\"left\", leaf_font_size=16\n",
    "    )\n",
    "    plt.show()"
   ]
  },
  {
   "cell_type": "code",
   "execution_count": null,
   "metadata": {},
   "outputs": [
    {
     "data": {
      "image/png": "[encoded data removed]",
      "text/plain": [
       "<Figure size 1152x720 with 1 Axes>"
      ]
     },
     "metadata": {},
     "output_type": "display_data"
    }
   ],
   "source": [
    "plot_dendogram(X_keep)"
   ]
  },
  {
   "cell_type": "markdown",
   "metadata": {},
   "source": [
    "From the plot we see that quantities like `latitude` and `postal_code` are grouped together and similar (as we might expect). Note that we used Spearman's rank correlation coefficient to calculate notions of similarity - this is useful for finding non-linear correlations that may be missed by Pearson's correlation coefficient.\n",
    "\n",
    "To examine these correlations a bit deeper, let's create a function that trains a Random Forest on subsets of the data where one of the columns is removed and see in which cases the OOB score does not get worse:"
   ]
  },
  {
   "cell_type": "code",
   "execution_count": null,
   "metadata": {},
   "outputs": [],
   "source": [
    "def get_oob(df):\n",
    "    model = RandomForestRegressor(\n",
    "        n_estimators=40, max_features='sqrt', n_jobs=-1, oob_score=True, random_state=42\n",
    "    )\n",
    "    X, _ = train_test_split(df, test_size=0.2, random_state=42)\n",
    "    model.fit(X, y_train)\n",
    "    return model.oob_score_"
   ]
  },
  {
   "cell_type": "code",
   "execution_count": null,
   "metadata": {},
   "outputs": [
    {
     "data": {
      "text/plain": [
       "0.8021265907435767"
      ]
     },
     "execution_count": null,
     "metadata": {},
     "output_type": "execute_result"
    }
   ],
   "source": [
    "# calculate reference value\n",
    "get_oob(X_keep)"
   ]
  },
  {
   "cell_type": "code",
   "execution_count": null,
   "metadata": {},
   "outputs": [
    {
     "name": "stdout",
     "output_type": "stream",
     "text": [
      "longitude 0.7728875237498377\n",
      "population_per_household 0.7901969073954147\n",
      "housing_median_age 0.7921744780471269\n",
      "bedrooms_per_room 0.8033772050439794\n",
      "latitude 0.7764470270681797\n",
      "postal_code 0.7817819559028422\n",
      "rooms_per_household 0.8039031326542978\n",
      "median_income 0.7947438916177811\n"
     ]
    }
   ],
   "source": [
    "for column in (\n",
    "    \"longitude\",\n",
    "    \"population_per_household\",\n",
    "    \"housing_median_age\",\n",
    "    \"bedrooms_per_room\",\n",
    "    \"latitude\",\n",
    "    \"postal_code\",\n",
    "    \"rooms_per_household\",\n",
    "    \"median_income\",\n",
    "):\n",
    "    print(column, get_oob(X_keep.drop(column, axis=1)))"
   ]
  },
  {
   "cell_type": "markdown",
   "metadata": {},
   "source": [
    "Here we're looking for columns where the OOB score did not drop much, say around the third decimal place. Let's see what happens to our OOB score when we drop these candidate columns:"
   ]
  },
  {
   "cell_type": "code",
   "execution_count": null,
   "metadata": {},
   "outputs": [
    {
     "data": {
      "text/plain": [
       "0.805703437136301"
      ]
     },
     "execution_count": null,
     "metadata": {},
     "output_type": "execute_result"
    }
   ],
   "source": [
    "cols_to_drop = [\n",
    "    'bedrooms_per_room',\n",
    "    \"rooms_per_household\",\n",
    "]\n",
    "get_oob(X_keep.drop(cols_to_drop, axis=1))"
   ]
  },
  {
   "cell_type": "markdown",
   "metadata": {},
   "source": [
    "The OOB score increases fractionally which is good since we're looking for a simpler model - let's drop these columns and run the full model again:"
   ]
  },
  {
   "cell_type": "code",
   "execution_count": null,
   "metadata": {},
   "outputs": [],
   "source": [
    "X_keep.drop(cols_to_drop, axis=1, inplace=True)\n",
    "X_train, X_valid = train_test_split(X_keep, test_size=0.2, random_state=42)"
   ]
  },
  {
   "cell_type": "code",
   "execution_count": null,
   "metadata": {},
   "outputs": [
    {
     "name": "stdout",
     "output_type": "stream",
     "text": [
      "RMSE on train: 15876.383\n",
      "R^2 on train: 0.973\n",
      "RMSE on valid: 41855.649\n",
      "R^2 on valid: 0.818\n",
      "OOB R^2: 0.806\n"
     ]
    }
   ],
   "source": [
    "model = RandomForestRegressor(n_estimators=40, max_features='sqrt', n_jobs=-1, oob_score=True, random_state=42)\n",
    "model.fit(X_train, y_train)\n",
    "print_rf_scores(model)"
   ]
  },
  {
   "cell_type": "code",
   "execution_count": null,
   "metadata": {},
   "outputs": [
    {
     "data": {
      "image/png": "[encoded data removed]",
      "text/plain": [
       "<Figure size 432x288 with 1 Axes>"
      ]
     },
     "metadata": {},
     "output_type": "display_data"
    }
   ],
   "source": [
    "feature_importance = rf_feature_importance(model, X_keep)\n",
    "plot_feature_importance(feature_importance);"
   ]
  },
  {
   "cell_type": "markdown",
   "metadata": {},
   "source": [
    "## Our final model"
   ]
  },
  {
   "cell_type": "markdown",
   "metadata": {},
   "source": [
    "Now that we have simplified our model, let's create a huge Random Forest to see if we can squeeze a bit more performance:"
   ]
  },
  {
   "cell_type": "code",
   "execution_count": null,
   "metadata": {},
   "outputs": [
    {
     "name": "stdout",
     "output_type": "stream",
     "text": [
      "RMSE on train: 14963.277\n",
      "R^2 on train: 0.976\n",
      "RMSE on valid: 41200.693\n",
      "R^2 on valid: 0.823\n",
      "OOB R^2: 0.823\n"
     ]
    }
   ],
   "source": [
    "model = RandomForestRegressor(\n",
    "    n_estimators=1000, max_features='sqrt', n_jobs=-1, oob_score=True, random_state=42\n",
    ")\n",
    "model.fit(X_train, y_train)\n",
    "print_rf_scores(model)"
   ]
  },
  {
   "cell_type": "markdown",
   "metadata": {},
   "source": [
    "Our final model achieves around 5% better performance compared to our naive model with 10 trees from lesson 4, but it is _much simpler_ - we've reduced the features from 19 down to 7! Moreover we've identified which features are most important, let's plot them out for the final visual comparison:"
   ]
  },
  {
   "cell_type": "code",
   "execution_count": null,
   "metadata": {},
   "outputs": [
    {
     "data": {
      "image/png": "[encoded data removed]",
      "text/plain": [
       "<Figure size 432x288 with 1 Axes>"
      ]
     },
     "metadata": {},
     "output_type": "display_data"
    }
   ],
   "source": [
    "feature_importance = rf_feature_importance(model, X_keep)\n",
    "plot_feature_importance(feature_importance);"
   ]
  },
  {
   "cell_type": "markdown",
   "metadata": {},
   "source": [
    "### Save model to disk"
   ]
  },
  {
   "cell_type": "markdown",
   "metadata": {},
   "source": [
    "Finally let's save this model to disk for later use or if we want to deploy it to production:"
   ]
  },
  {
   "cell_type": "code",
   "execution_count": null,
   "metadata": {},
   "outputs": [],
   "source": [
    "import pickle\n",
    "\n",
    "with open(DATA/'housing_model.pkl', mode='wb') as file:\n",
    "    pickle.dump(model, file)"
   ]
  },
  {
   "cell_type": "code",
   "execution_count": null,
   "metadata": {},
   "outputs": [],
   "source": [
    "# sanity check\n",
    "with open(DATA/'housing_model.pkl', mode='rb') as file:\n",
    "    model = pickle.load(file)"
   ]
  },
  {
   "cell_type": "code",
   "execution_count": null,
   "metadata": {},
   "outputs": [
    {
     "name": "stdout",
     "output_type": "stream",
     "text": [
      "RMSE on train: 14963.277\n",
      "R^2 on train: 0.976\n",
      "RMSE on valid: 41200.693\n",
      "R^2 on valid: 0.823\n",
      "OOB R^2: 0.823\n"
     ]
    }
   ],
   "source": [
    "print_rf_scores(model)"
   ]
  },
  {
   "cell_type": "markdown",
   "metadata": {},
   "source": [
    "> Note: We often use the `with` statement to read or write data in Python as this automatically takes care of closing the file once we have finished with it. The `mode` argument controls how we want to open the file, where `'rb'` (read) and `'wb'` (write) correspond to opening in binary mode."
   ]
  },
  {
   "cell_type": "markdown",
   "metadata": {},
   "source": [
    "---\n",
    "\n",
    "#### Exercise #3\n",
    "\n",
    "By this stage you've now learned all the key steps needed to clean data, train a machine learning model, and interpret the results! Try applying the techniques you have learned to Kaggle's [House Prices: Advanced Regression Techniques](https://www.kaggle.com/c/house-prices-advanced-regression-techniques) competition. Don't spend too much time trying to build a perfect model - the purpose of this exercise is to get familiar with downloading a new dataset, understanding the evaluation metric, and submitting your predictions to the Kaggle platform. To get started:\n",
    "\n",
    "* Create an account on [Kaggle](https://www.kaggle.com/)\n",
    "* Download the data from [here](https://www.kaggle.com/c/house-prices-advanced-regression-techniques/data)\n",
    "\n",
    "When you have your predictions ready, submit them [here](https://www.kaggle.com/c/house-prices-advanced-regression-techniques/submissions) for evaluation on the public leaderboard!\n",
    "\n",
    "Hint #1: Kaggle provides 2 datasets called `train.csv` and `test.csv`, where the latter is missing the target column `SalePrice`. Your task is to build a regression model on `train.csv` and then use that model to make _predictions_ on `test.csv`. \n",
    "\n",
    "Hint #2: A closer look at Kaggle's evaluation metric shows that we actually want the RMSE between the _logarithms_ of the predicted and actual house prices:\n",
    "\n",
    "> Submissions are evaluated on Root-Mean-Squared-Error (RMSE) between the logarithm of the predicted value and the logarithm of the observed sales price. (Taking logs means that errors in predicting expensive houses and cheap houses will affect the result equally.)\n",
    "\n",
    "How might you handle this? You may find NumPy's [log function](https://docs.scipy.org/doc/numpy/reference/generated/numpy.log.html) to be useful here.\n",
    "\n",
    "Hint #3: You may find the `convert_strings_to_categories` function from lesson 3 to be useful. You can import it from the `dslectures` library as follows\n",
    "\n",
    "```python\n",
    "from dslectures.core import convert_strings_to_categories\n",
    "```\n",
    "\n",
    "Hint #4: When you use the median to fill missing values in the training set, you should use the _same_ median for the test set. See p.61 of _Hands-On Machine Learning with Scikit-Learn and TensorFlow_ by A. Geron.\n",
    "\n",
    "---\n"
   ]
  }
 ],
 "metadata": {
  "kernelspec": {
   "display_name": "Python 3",
   "language": "python",
   "name": "python3"
  }
 },
 "nbformat": 4,
 "nbformat_minor": 4
}
